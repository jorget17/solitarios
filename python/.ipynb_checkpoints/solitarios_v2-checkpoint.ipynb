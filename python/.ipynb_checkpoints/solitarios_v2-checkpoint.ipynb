{
 "cells": [
  {
   "cell_type": "code",
   "execution_count": 1,
   "metadata": {
    "id": "SzGYK3czEP3H"
   },
   "outputs": [],
   "source": [
    "# coding=utf-8\n",
    "\n",
    "from math import factorial\n",
    "from random import Random, randint\n",
    "from math import ceil, floor\n",
    "from itertools import zip_longest"
   ]
  },
  {
   "cell_type": "code",
   "execution_count": 2,
   "metadata": {},
   "outputs": [],
   "source": [
    "# La clase Game es un objeto que representa la partida y tiene 3 atributos:\n",
    "# deck: la baraja que se va a utilizar\n",
    "# deal: las cartas en el orden concreto de esa partida\n",
    "# seed: el seed que genera el orden concreto de las cartas\n",
    "\n",
    "class Game:\n",
    "    def __init__(self, deck, deal, seed):\n",
    "        self.deck = deck\n",
    "        self.deal = deal\n",
    "        self.seed = seed"
   ]
  },
  {
   "cell_type": "code",
   "execution_count": 3,
   "metadata": {},
   "outputs": [],
   "source": [
    "# La clase Card es un objeto que representa una carta con los atributos siguientes:\n",
    "# rank, suit, value, color...\n",
    "# metodos: getCardName, getCardImg...\n",
    "\n",
    "class Card:\n",
    "    def __init__(self, rank, suit, color, value):\n",
    "        self.rank = rank\n",
    "        self.suit = suit\n",
    "        self.color = color\n",
    "        self.value = value\n",
    "        \n",
    "    def getCardName(self):\n",
    "        return f'{self.rank}{self.suit}'\n",
    "    \n",
    "    def getCardImg(self):\n",
    "        return f'{self.getCardName()}.png'\n",
    "\n"
   ]
  },
  {
   "cell_type": "code",
   "execution_count": 4,
   "metadata": {
    "id": "bHakNrRMD4N2"
   },
   "outputs": [],
   "source": [
    "# La clase Deck es un objeto que representa las diferentes barajas que puedan\n",
    "# utilizarse, así como sus métodos: barajar, etc.\n",
    "# Genera objetos de tipo Card\n",
    "# Atributos:\n",
    "    # ranks --> Los ranks de las cartas (A --> as, K --> King, S --> Sota, R --> Rey...) en un string\n",
    "                # sin espacios: A23456789TJQK, A23456789SCR...\n",
    "    # suits --> Los palos de las cartas (C --> Clubs, K --> Copas, D --> Diamantes, O --> Oros...)\n",
    "                # en un string sin espacios CSHD, OCEB...\n",
    "    # values --> Los valores de las cartas (1, 8, 12...)\n",
    "    # matrix --> Diccionario que indica el valor de cada rank ('A': 1, 'S': 8....)\n",
    "\n",
    "class Deck:\n",
    "    def __init__(self, deckName, ranks, suits, matrix):\n",
    "        self.deckName = deckName\n",
    "        self.ranks = ranks\n",
    "        self.suits = suits\n",
    "        self.matrix = matrix\n",
    "\n",
    "    def getCards(self):\n",
    "        cardList = [r+s for s in self.suits for r in self.ranks]\n",
    "        cards = []\n",
    "        for c in cardList:\n",
    "            rank = c[0]\n",
    "            suit = c[1]\n",
    "            value = self.matrix['ranksValues'][c[0]]\n",
    "            color = self.matrix['suitsColors'][c[1]]\n",
    "            cards.append(Card(rank = rank, suit = suit, value = value, color = color))\n",
    "        return cards\n",
    "\n",
    "    def getLenght(self):\n",
    "        return len(self.getCards())\n",
    "\n",
    "\n",
    "    def shuffleDeck(self): # Baraja las cartas con un seed aleatorio\n",
    "        deal = []\n",
    "        seed = randint(0, factorial(self.getLenght()))\n",
    "        sortedDeck = self.getCards()\n",
    "        Random(seed).shuffle(sortedDeck)\n",
    "        deal = sortedDeck\n",
    "        return Game(deal = deal, seed = seed)\n",
    "\n",
    "\n",
    "    def shuffleDeckFromNumber(self, seed): # Baraja las cartas con un seed determinado\n",
    "        deal = []\n",
    "        sortedDeck = self.getCards()\n",
    "        Random(seed).shuffle(sortedDeck)\n",
    "        deal = sortedDeck\n",
    "        return Game(deal = deal, seed = seed)\n",
    "\n"
   ]
  },
  {
   "cell_type": "code",
   "execution_count": 5,
   "metadata": {
    "id": "HAW5Cb-tEN_m"
   },
   "outputs": [],
   "source": [
    "# Objetos que representan las diferentas barajas que se utilizan en todos los solitarios.\n",
    "# Cada solitario utiliza una baraja concreta que importa de este único objeto.\n",
    "\n",
    "# La baraja se selecciona asignando una variable al inicio de cada solitario que\n",
    "# apunta al objeto decks. Por ejemplo, para jugar un solitario con la baraja española\n",
    "# de 40 cartas se utilizaría lo siguiente:\n",
    "\n",
    "# gameDeck = decks['esp40']\n",
    "\n",
    "frenchRanksValues = {'A': 1, '2': 2, '3': 3, '4': 4, '5': 5, '6': 6, '7': 7,\n",
    "                     '8': 8, '9': 9, 'T': 10, 'J': 11, 'Q': 12, 'K': 13}\n",
    "\n",
    "frenchSuitsColors = {'C': 'black', 'S': 'black', 'H': 'red', 'D': 'red'}\n",
    "\n",
    "esp40RanksValues = {'A': 1, '2': 2, '3': 3, '4': 4, '5': 5, '6': 6, '7': 7,\n",
    "                    'S': 8, 'C': 9, 'R': 10}\n",
    "\n",
    "esp48RanksValues = {'A': 1, '2': 2, '3': 3, '4': 4, '5': 5, '6': 6, '7': 7, \n",
    "                    '8': 8, '9': 9, 'S': 10, 'C': 11, 'R': 12}\n",
    "\n",
    "espSuitsColors = {'O': 'black', 'C': 'black', 'E': 'red', 'B': 'red'}\n",
    "\n",
    "decks = {\n",
    "    'frenchDeck': Deck('Baraja Francesa de 52 Cartas',\n",
    "                       'A23456789TJQK', 'CSDH',\n",
    "                       {'ranksValues': frenchRanksValues,\n",
    "                        'suitsColors': frenchSuitsColors}),\n",
    "\n",
    "    'french2Decks': Deck('Doble Baraja Francesa - 104 Cartas',\n",
    "                         'A23456789TJQKA23456789TJQK', 'CSDH',\n",
    "                         {'ranksValues': frenchRanksValues,\n",
    "                          'suitsColors': frenchSuitsColors}),\n",
    "\n",
    "    'esp48': Deck('Baraja Española de 48 Cartas',\n",
    "                  'A23456789SCR', 'OCEB',\n",
    "                  {'ranksValues': esp48RanksValues,\n",
    "                   'suitsColors': espSuitsColors}),\n",
    "    \n",
    "    'esp48_2Barajas': Deck('Baraja Española de 48 Cartas - 2 Barajas',\n",
    "                  'A23456789SCRA23456789SCR', 'OCEB',\n",
    "                  {'ranksValues': esp48RanksValues,\n",
    "                   'suitsColors': espSuitsColors}),\n",
    "\n",
    "    'esp40': Deck('Baraja Española de 40 Cartas',\n",
    "                  'A234567SCR', 'OCEB',\n",
    "                  {'ranksValues': esp40RanksValues,\n",
    "                   'suitsColors': espSuitsColors}),\n",
    "    \n",
    "    'esp40_2Barajas': Deck('Baraja Española de 40 Cartas - 2 Barajas',\n",
    "                  'A234567SCRA234567SCR', 'OCEB',\n",
    "                  {'ranksValues': esp40RanksValues,\n",
    "                   'suitsColors': espSuitsColors})\n",
    "\n",
    "}"
   ]
  },
  {
   "cell_type": "code",
   "execution_count": 6,
   "metadata": {
    "id": "qPYdwzT8EJl0"
   },
   "outputs": [],
   "source": [
    "# Se especifica qué tipo de baraja se utiliza en este solitario en concreto, en este case la francesa\n",
    "\n",
    "gameDeck = decks['frenchDeck']"
   ]
  },
  {
   "cell_type": "code",
   "execution_count": 7,
   "metadata": {
    "id": "fZCH41VIEt0J"
   },
   "outputs": [],
   "source": [
    "# Se crea la partida. Esto genera un mazo de cartas de la baraja francesa en un orden concreto con dos datos:\n",
    "# 1. deal > la lista con las cartas en desorden, cada carta es un objeto con atributos suit, rank, value, color, cardName y cardImg\n",
    "# 2. seed > el número aleatorio concreto que ha generado este orden de cardas. Siempre que se utilice este seed el orden de las cartas será el mismo.\n",
    "\n",
    "game = gameDeck.shuffleDeck()"
   ]
  },
  {
   "cell_type": "code",
   "execution_count": 8,
   "metadata": {
    "colab": {
     "base_uri": "https://localhost:8080/"
    },
    "id": "RONsAzwDF0yr",
    "outputId": "291e3e5c-0a4c-45e3-e965-5be3edadf93c"
   },
   "outputs": [
    {
     "data": {
      "text/plain": [
       "62853101501976966650338709935313115904430333364239649609346111343736"
      ]
     },
     "execution_count": 8,
     "metadata": {},
     "output_type": "execute_result"
    }
   ],
   "source": [
    "game.seed"
   ]
  },
  {
   "cell_type": "code",
   "execution_count": 9,
   "metadata": {
    "id": "_DaeXGteQ83M"
   },
   "outputs": [],
   "source": [
    "deal = game.deal"
   ]
  },
  {
   "cell_type": "code",
   "execution_count": 10,
   "metadata": {
    "id": "EN8Z7OjwSt0B"
   },
   "outputs": [],
   "source": [
    "def create_rows(deal, num):\n",
    "  t = [deal[i:i+num] for i in range(0, len(deal), num)]\n",
    "  return t"
   ]
  },
  {
   "cell_type": "code",
   "execution_count": 11,
   "metadata": {
    "id": "FnKocFpzcAxS"
   },
   "outputs": [],
   "source": [
    "rows = create_rows(deal, 8)"
   ]
  },
  {
   "cell_type": "code",
   "execution_count": 12,
   "metadata": {},
   "outputs": [],
   "source": [
    "tableaus = list(zip_longest(*rows,fillvalue=None))"
   ]
  },
  {
   "cell_type": "code",
   "execution_count": 13,
   "metadata": {},
   "outputs": [],
   "source": [
    "tableaus = [list(t) for t in tableaus]"
   ]
  },
  {
   "cell_type": "code",
   "execution_count": 14,
   "metadata": {},
   "outputs": [],
   "source": [
    "tableaus = [[c for c in t if c is not None] for t in tableaus]"
   ]
  },
  {
   "cell_type": "code",
   "execution_count": 15,
   "metadata": {},
   "outputs": [
    {
     "name": "stdout",
     "output_type": "stream",
     "text": [
      "['QD', '8D', '6C', '5S', 'QH', '7D', '8S', '2C']\n",
      "['9H', '4S', 'AS', 'AH', 'KD', '4C', '9D', 'JS']\n",
      "['AD', 'TH', '2D', '3H', '7H', '8H', '5D', '5H']\n",
      "['KC', '3D', '6H', '9C', '2H', '7S', '9S', '4D']\n",
      "['3S', '4H', '2S', 'QS', '6S', 'TD', 'QC', 'TC']\n",
      "['JD', 'KH', '3C', '5C', 'AC', 'JC', 'JH', 'TS']\n",
      "['6D', '7C', '8C', 'KS']\n"
     ]
    }
   ],
   "source": [
    "for r in rows:\n",
    "    print([c.getCardName() for c in r])"
   ]
  },
  {
   "cell_type": "code",
   "execution_count": 16,
   "metadata": {},
   "outputs": [
    {
     "name": "stdout",
     "output_type": "stream",
     "text": [
      "['QD', '9H', 'AD', 'KC', '3S', 'JD', '6D']\n",
      "['8D', '4S', 'TH', '3D', '4H', 'KH', '7C']\n",
      "['6C', 'AS', '2D', '6H', '2S', '3C', '8C']\n",
      "['5S', 'AH', '3H', '9C', 'QS', '5C', 'KS']\n",
      "['QH', 'KD', '7H', '2H', '6S', 'AC']\n",
      "['7D', '4C', '8H', '7S', 'TD', 'JC']\n",
      "['8S', '9D', '5D', '9S', 'QC', 'JH']\n",
      "['2C', 'JS', '5H', '4D', 'TC', 'TS']\n"
     ]
    }
   ],
   "source": [
    "for t in tableaus:\n",
    "    print([c.getCardName() for c in t])"
   ]
  },
  {
   "cell_type": "code",
   "execution_count": null,
   "metadata": {},
   "outputs": [],
   "source": []
  }
 ],
 "metadata": {
  "colab": {
   "collapsed_sections": [],
   "include_colab_link": true,
   "provenance": []
  },
  "kernelspec": {
   "display_name": "Python 3 (ipykernel)",
   "language": "python",
   "name": "python3"
  },
  "language_info": {
   "codemirror_mode": {
    "name": "ipython",
    "version": 3
   },
   "file_extension": ".py",
   "mimetype": "text/x-python",
   "name": "python",
   "nbconvert_exporter": "python",
   "pygments_lexer": "ipython3",
   "version": "3.8.10"
  },
  "vscode": {
   "interpreter": {
    "hash": "916dbcbb3f70747c44a77c7bcd40155683ae19c65e1c03b4aa3499c5328201f1"
   }
  }
 },
 "nbformat": 4,
 "nbformat_minor": 1
}
