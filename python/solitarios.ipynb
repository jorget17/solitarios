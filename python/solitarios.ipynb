{
 "cells": [
  {
   "cell_type": "code",
   "execution_count": 1,
   "metadata": {
    "id": "SzGYK3czEP3H"
   },
   "outputs": [],
   "source": [
    "# coding=utf-8\n",
    "\n",
    "from math import factorial\n",
    "from random import Random, randint\n",
    "from math import ceil, floor\n",
    "from itertools import zip_longest"
   ]
  },
  {
   "cell_type": "code",
   "execution_count": 2,
   "metadata": {},
   "outputs": [],
   "source": [
    "# La clase Game es un objeto que representa la partida, que tiene 2 atributos\n",
    "# deal: las cartas en el orden concreto de esa partida\n",
    "# seed: el seed que genera el orden concreto de las cartas\n",
    "\n",
    "class Game:\n",
    "    def __init__(self, deal, seed):\n",
    "        self.deal = deal\n",
    "        self.seed = seed"
   ]
  },
  {
   "cell_type": "code",
   "execution_count": 3,
   "metadata": {},
   "outputs": [],
   "source": [
    "# La clase Card es un objeto que representa una carta con los atributos siguientes:\n",
    "# cardName, rank, suit, value, color...\n",
    "\n",
    "class Card:\n",
    "    def __init__(self, rank, suit, color, value):\n",
    "        self.rank = rank\n",
    "        self.suit = suit\n",
    "        self.color = color\n",
    "        self.value = value\n",
    "        \n",
    "    def getCardName(self):\n",
    "        return f'{self.rank}{self.suit}'\n",
    "    \n",
    "    def getCardImg(self):\n",
    "        return f'{self.getCardName()}.png'\n",
    "\n"
   ]
  },
  {
   "cell_type": "code",
   "execution_count": 4,
   "metadata": {
    "id": "bHakNrRMD4N2"
   },
   "outputs": [],
   "source": [
    "# La clase Deck es un objeto que representa las diferentes barajas que puedan\n",
    "# utilizarse, así como sus métodos: barajar, etc.\n",
    "\n",
    "class Deck:\n",
    "    def __init__(self, deckName, ranks, suits, matrix):\n",
    "        self.deckName = deckName\n",
    "        self.ranks = ranks\n",
    "        self.suits = suits\n",
    "        self.matrix = matrix\n",
    "\n",
    "    def getCards(self):\n",
    "        cardList = [r+s for s in self.suits for r in self.ranks]\n",
    "        cards = []\n",
    "        for c in cardList:\n",
    "            rank = c[0]\n",
    "            suit = c[1]\n",
    "            value = self.matrix['ranksValues'][c[0]]\n",
    "            color = self.matrix['suitsColors'][c[1]]\n",
    "            cards.append(Card(rank = rank, suit = suit, value = value, color = color))\n",
    "        return cards\n",
    "\n",
    "    def getLenght(self):\n",
    "        return len(self.getCards())\n",
    "\n",
    "\n",
    "    def shuffleDeck(self): # Baraja las cartas con un seed aleatorio\n",
    "        deal = []\n",
    "        seed = randint(0, factorial(self.getLenght()))\n",
    "        sortedDeck = self.getCards()\n",
    "        Random(seed).shuffle(sortedDeck)\n",
    "        deal = sortedDeck\n",
    "        return Game(deal = deal, seed = seed)\n",
    "\n",
    "\n",
    "    def shuffleDeckFromNumber(self, seed): # Baraja las cartas con un seed determinado\n",
    "        deal = []\n",
    "        sortedDeck = self.getCards()\n",
    "        Random(seed).shuffle(sortedDeck)\n",
    "        deal = sortedDeck\n",
    "        return Game(deal = deal, seed = seed)\n",
    "\n"
   ]
  },
  {
   "cell_type": "code",
   "execution_count": 5,
   "metadata": {
    "id": "HAW5Cb-tEN_m"
   },
   "outputs": [],
   "source": [
    "# Objetos que representan las diferentas barajas que se utilizan en todos los solitarios.\n",
    "# Cada solitario utiliza una baraja concreta que importa de este único objeto.\n",
    "\n",
    "# La baraja se selecciona asignando una variable al inicio de cada solitario que\n",
    "# apunta al objeto decks. Por ejemplo, para jugar un solitario con la baraja española\n",
    "# de 40 cartas se utilizaría lo siguiente:\n",
    "\n",
    "# gameDeck = decks['esp40']\n",
    "\n",
    "frenchRanksValues = {'A': 1, '2': 2, '3': 3, '4': 4, '5': 5, '6': 6, '7': 7,\n",
    "                     '8': 8, '9': 9, 'T': 10, 'J': 11, 'Q': 12, 'K': 13}\n",
    "frenchSuitsColors = {'C': 'black', 'S': 'black', 'H': 'red', 'D': 'red'}\n",
    "\n",
    "esp40RanksValues = {'A': 1, '2': 2, '3': 3, '4': 4, '5': 5, '6': 6, '7': 7,\n",
    "                    'S': 8, 'C': 9, 'R': 10}\n",
    "esp48RanksValues = {'A': 1, '2': 2, '3': 3, '4': 4, '5': 5, '6': 6, '7': 7, \n",
    "                    '8': 8, '9': 9, 'S': 10, 'C': 11, 'R': 12}\n",
    "espSuitsColors = {'O': 'black', 'C': 'black', 'E': 'red', 'B': 'red'}\n",
    "\n",
    "decks = {\n",
    "    'frenchDeck': Deck('Baraja Francesa de 52 Cartas',\n",
    "                       'A23456789TJQK', 'CSDH',\n",
    "                       {'ranksValues': frenchRanksValues,\n",
    "                        'suitsColors': frenchSuitsColors}),\n",
    "\n",
    "    'french2Decks': Deck('Doble Baraja Francesa - 104 Cartas',\n",
    "                         'A23456789TJQKA23456789TJQK', 'CSDH',\n",
    "                         {'ranksValues': frenchRanksValues,\n",
    "                          'suitsColors': frenchSuitsColors}),\n",
    "\n",
    "    'esp48': Deck('Baraja Española de 48 Cartas',\n",
    "                  'A23456789SCR', 'OCEB',\n",
    "                  {'ranksValues': esp48RanksValues,\n",
    "                   'suitsColors': espSuitsColors}),\n",
    "    \n",
    "    'esp48_2Barajas': Deck('Baraja Española de 48 Cartas - 2 Barajas',\n",
    "                  'A23456789SCRA23456789SCR', 'OCEB',\n",
    "                  {'ranksValues': esp48RanksValues,\n",
    "                   'suitsColors': espSuitsColors}),\n",
    "\n",
    "    'esp40': Deck('Baraja Española de 40 Cartas',\n",
    "                  'A234567SCR', 'OCEB',\n",
    "                  {'ranksValues': esp40RanksValues,\n",
    "                   'suitsColors': espSuitsColors}),\n",
    "    \n",
    "    'esp40_2Barajas': Deck('Baraja Española de 40 Cartas',\n",
    "                  'A234567SCRA234567SCR', 'OCEB',\n",
    "                  {'ranksValues': esp40RanksValues,\n",
    "                   'suitsColors': espSuitsColors})\n",
    "\n",
    "}"
   ]
  },
  {
   "cell_type": "code",
   "execution_count": 6,
   "metadata": {
    "id": "qPYdwzT8EJl0"
   },
   "outputs": [],
   "source": [
    "# Se especifica qué tipo de baraja se utiliza en este solitario en concreto, en este case la francesa\n",
    "\n",
    "gameDeck = decks['frenchDeck']"
   ]
  },
  {
   "cell_type": "code",
   "execution_count": 7,
   "metadata": {
    "id": "fZCH41VIEt0J"
   },
   "outputs": [],
   "source": [
    "# Se crea la partida. Esto genera un mazo de cartas de la baraja francesa en un orden concreto con dos datos:\n",
    "# 1. deal > la lista con las cartas en desorden, cada carta es un objeto con atributos suit, rank, value, color, cardName y cardImg\n",
    "# 2. seed > el número aleatorio concreto que ha generado este orden de cardas. Siempre que se utilice este seed el orden de las cartas será el mismo.\n",
    "\n",
    "game = gameDeck.shuffleDeck()"
   ]
  },
  {
   "cell_type": "code",
   "execution_count": 8,
   "metadata": {
    "colab": {
     "base_uri": "https://localhost:8080/"
    },
    "id": "RONsAzwDF0yr",
    "outputId": "291e3e5c-0a4c-45e3-e965-5be3edadf93c"
   },
   "outputs": [
    {
     "data": {
      "text/plain": [
       "54334012769797591853999529884504248342173996894374379279605579164317"
      ]
     },
     "execution_count": 8,
     "metadata": {},
     "output_type": "execute_result"
    }
   ],
   "source": [
    "game.seed"
   ]
  },
  {
   "cell_type": "code",
   "execution_count": 9,
   "metadata": {
    "id": "_DaeXGteQ83M"
   },
   "outputs": [],
   "source": [
    "deal = game.deal"
   ]
  },
  {
   "cell_type": "code",
   "execution_count": 10,
   "metadata": {
    "id": "tS9Y-VR_VCqV"
   },
   "outputs": [],
   "source": [
    "deal_cards = [c.getCardName() for c in deal]"
   ]
  },
  {
   "cell_type": "code",
   "execution_count": 11,
   "metadata": {
    "colab": {
     "base_uri": "https://localhost:8080/"
    },
    "id": "nhOoUt2ZVRLk",
    "outputId": "394bdb10-0f92-4549-87c8-39f2ad4d8a15"
   },
   "outputs": [
    {
     "data": {
      "text/plain": [
       "['4D',\n",
       " '6H',\n",
       " '3H',\n",
       " '9D',\n",
       " '9S',\n",
       " '6D',\n",
       " 'TC',\n",
       " 'QD',\n",
       " '9C',\n",
       " '5C',\n",
       " '4H',\n",
       " '2S',\n",
       " '8D',\n",
       " '3C',\n",
       " 'JC',\n",
       " '4S',\n",
       " '5H',\n",
       " '6S',\n",
       " '7S',\n",
       " '2D',\n",
       " 'JH',\n",
       " '3D',\n",
       " 'TD',\n",
       " '7C',\n",
       " '8S',\n",
       " 'TS',\n",
       " 'KD',\n",
       " '2H',\n",
       " 'QH',\n",
       " 'AS',\n",
       " 'AD',\n",
       " '2C',\n",
       " 'KC',\n",
       " '9H',\n",
       " '7D',\n",
       " '4C',\n",
       " 'QS',\n",
       " 'AH',\n",
       " '5S',\n",
       " '5D',\n",
       " '6C',\n",
       " '7H',\n",
       " 'QC',\n",
       " '3S',\n",
       " 'TH',\n",
       " '8H',\n",
       " 'KS',\n",
       " 'JS',\n",
       " '8C',\n",
       " 'KH',\n",
       " 'JD',\n",
       " 'AC']"
      ]
     },
     "execution_count": 11,
     "metadata": {},
     "output_type": "execute_result"
    }
   ],
   "source": [
    "deal_cards"
   ]
  },
  {
   "cell_type": "code",
   "execution_count": 12,
   "metadata": {
    "id": "EN8Z7OjwSt0B"
   },
   "outputs": [],
   "source": [
    "def create_rows(deal, num):\n",
    "  t = [deal[i:i+num] for i in range(0, len(deal), num)]\n",
    "  return t"
   ]
  },
  {
   "cell_type": "code",
   "execution_count": 13,
   "metadata": {
    "id": "gPwNmUI2WpAj"
   },
   "outputs": [],
   "source": [
    "t = create_rows(deal, 8)"
   ]
  },
  {
   "cell_type": "code",
   "execution_count": 14,
   "metadata": {
    "colab": {
     "base_uri": "https://localhost:8080/"
    },
    "id": "Es1KZQlLXEIj",
    "outputId": "9c41bf6e-902f-4264-e5f9-dd6ba620f25a"
   },
   "outputs": [
    {
     "data": {
      "text/plain": [
       "[[<__main__.Card at 0x7f406c519c70>,\n",
       "  <__main__.Card at 0x7f406c505d00>,\n",
       "  <__main__.Card at 0x7f406c519f10>,\n",
       "  <__main__.Card at 0x7f406c519d00>,\n",
       "  <__main__.Card at 0x7f406c545d30>,\n",
       "  <__main__.Card at 0x7f406c519fa0>,\n",
       "  <__main__.Card at 0x7f406c545f70>,\n",
       "  <__main__.Card at 0x7f406c519dc0>],\n",
       " [<__main__.Card at 0x7f406c545e80>,\n",
       "  <__main__.Card at 0x7f40705e1ac0>,\n",
       "  <__main__.Card at 0x7f406c519ca0>,\n",
       "  <__main__.Card at 0x7f406c545d60>,\n",
       "  <__main__.Card at 0x7f406c519700>,\n",
       "  <__main__.Card at 0x7f40705e1fa0>,\n",
       "  <__main__.Card at 0x7f406c545fa0>,\n",
       "  <__main__.Card at 0x7f406c545820>],\n",
       " [<__main__.Card at 0x7f406c519af0>,\n",
       "  <__main__.Card at 0x7f406c545ee0>,\n",
       "  <__main__.Card at 0x7f406c5456a0>,\n",
       "  <__main__.Card at 0x7f407062e970>,\n",
       "  <__main__.Card at 0x7f406c505280>,\n",
       "  <__main__.Card at 0x7f407062eaf0>,\n",
       "  <__main__.Card at 0x7f406c519a90>,\n",
       "  <__main__.Card at 0x7f40705e12e0>],\n",
       " [<__main__.Card at 0x7f406c5457f0>,\n",
       "  <__main__.Card at 0x7f406c545af0>,\n",
       "  <__main__.Card at 0x7f406c519e20>,\n",
       "  <__main__.Card at 0x7f406c519eb0>,\n",
       "  <__main__.Card at 0x7f406c505160>,\n",
       "  <__main__.Card at 0x7f406c5450a0>,\n",
       "  <__main__.Card at 0x7f407062e850>,\n",
       "  <__main__.Card at 0x7f40705e1460>],\n",
       " [<__main__.Card at 0x7f406c545cd0>,\n",
       "  <__main__.Card at 0x7f406c505250>,\n",
       "  <__main__.Card at 0x7f406c5195e0>,\n",
       "  <__main__.Card at 0x7f40705e13a0>,\n",
       "  <__main__.Card at 0x7f406c545f10>,\n",
       "  <__main__.Card at 0x7f406c519c40>,\n",
       "  <__main__.Card at 0x7f406c545a00>,\n",
       "  <__main__.Card at 0x7f406c519f40>],\n",
       " [<__main__.Card at 0x7f40705e1760>,\n",
       "  <__main__.Card at 0x7f406c5050a0>,\n",
       "  <__main__.Card at 0x7f406c545b80>,\n",
       "  <__main__.Card at 0x7f406c545610>,\n",
       "  <__main__.Card at 0x7f406c5052b0>,\n",
       "  <__main__.Card at 0x7f406c5051f0>,\n",
       "  <__main__.Card at 0x7f407062efa0>,\n",
       "  <__main__.Card at 0x7f406c545c70>],\n",
       " [<__main__.Card at 0x7f40705e1160>,\n",
       "  <__main__.Card at 0x7f406c505130>,\n",
       "  <__main__.Card at 0x7f406c519d60>,\n",
       "  <__main__.Card at 0x7f40705e1a00>]]"
      ]
     },
     "execution_count": 14,
     "metadata": {},
     "output_type": "execute_result"
    }
   ],
   "source": [
    "t"
   ]
  },
  {
   "cell_type": "code",
   "execution_count": 15,
   "metadata": {},
   "outputs": [
    {
     "data": {
      "text/plain": [
       "[<__main__.Card at 0x7f406c519c70>,\n",
       " <__main__.Card at 0x7f406c505d00>,\n",
       " <__main__.Card at 0x7f406c519f10>,\n",
       " <__main__.Card at 0x7f406c519d00>,\n",
       " <__main__.Card at 0x7f406c545d30>,\n",
       " <__main__.Card at 0x7f406c519fa0>,\n",
       " <__main__.Card at 0x7f406c545f70>,\n",
       " <__main__.Card at 0x7f406c519dc0>]"
      ]
     },
     "execution_count": 15,
     "metadata": {},
     "output_type": "execute_result"
    }
   ],
   "source": [
    "t[0]"
   ]
  },
  {
   "cell_type": "code",
   "execution_count": 16,
   "metadata": {},
   "outputs": [
    {
     "data": {
      "text/plain": [
       "'4D'"
      ]
     },
     "execution_count": 16,
     "metadata": {},
     "output_type": "execute_result"
    }
   ],
   "source": [
    "t[0][0].getCardName()"
   ]
  },
  {
   "cell_type": "code",
   "execution_count": null,
   "metadata": {},
   "outputs": [],
   "source": []
  },
  {
   "cell_type": "code",
   "execution_count": null,
   "metadata": {},
   "outputs": [],
   "source": []
  },
  {
   "cell_type": "code",
   "execution_count": 17,
   "metadata": {
    "id": "FnKocFpzcAxS"
   },
   "outputs": [],
   "source": [
    "rows = create_rows(deal, 8)"
   ]
  },
  {
   "cell_type": "code",
   "execution_count": 18,
   "metadata": {
    "colab": {
     "base_uri": "https://localhost:8080/"
    },
    "id": "K7Fj38SYcJIK",
    "outputId": "d8726ac2-2603-40fc-bac1-4e020b14d32e"
   },
   "outputs": [
    {
     "data": {
      "text/plain": [
       "[[<__main__.Card at 0x7f406c519c70>,\n",
       "  <__main__.Card at 0x7f406c505d00>,\n",
       "  <__main__.Card at 0x7f406c519f10>,\n",
       "  <__main__.Card at 0x7f406c519d00>,\n",
       "  <__main__.Card at 0x7f406c545d30>,\n",
       "  <__main__.Card at 0x7f406c519fa0>,\n",
       "  <__main__.Card at 0x7f406c545f70>,\n",
       "  <__main__.Card at 0x7f406c519dc0>],\n",
       " [<__main__.Card at 0x7f406c545e80>,\n",
       "  <__main__.Card at 0x7f40705e1ac0>,\n",
       "  <__main__.Card at 0x7f406c519ca0>,\n",
       "  <__main__.Card at 0x7f406c545d60>,\n",
       "  <__main__.Card at 0x7f406c519700>,\n",
       "  <__main__.Card at 0x7f40705e1fa0>,\n",
       "  <__main__.Card at 0x7f406c545fa0>,\n",
       "  <__main__.Card at 0x7f406c545820>],\n",
       " [<__main__.Card at 0x7f406c519af0>,\n",
       "  <__main__.Card at 0x7f406c545ee0>,\n",
       "  <__main__.Card at 0x7f406c5456a0>,\n",
       "  <__main__.Card at 0x7f407062e970>,\n",
       "  <__main__.Card at 0x7f406c505280>,\n",
       "  <__main__.Card at 0x7f407062eaf0>,\n",
       "  <__main__.Card at 0x7f406c519a90>,\n",
       "  <__main__.Card at 0x7f40705e12e0>],\n",
       " [<__main__.Card at 0x7f406c5457f0>,\n",
       "  <__main__.Card at 0x7f406c545af0>,\n",
       "  <__main__.Card at 0x7f406c519e20>,\n",
       "  <__main__.Card at 0x7f406c519eb0>,\n",
       "  <__main__.Card at 0x7f406c505160>,\n",
       "  <__main__.Card at 0x7f406c5450a0>,\n",
       "  <__main__.Card at 0x7f407062e850>,\n",
       "  <__main__.Card at 0x7f40705e1460>],\n",
       " [<__main__.Card at 0x7f406c545cd0>,\n",
       "  <__main__.Card at 0x7f406c505250>,\n",
       "  <__main__.Card at 0x7f406c5195e0>,\n",
       "  <__main__.Card at 0x7f40705e13a0>,\n",
       "  <__main__.Card at 0x7f406c545f10>,\n",
       "  <__main__.Card at 0x7f406c519c40>,\n",
       "  <__main__.Card at 0x7f406c545a00>,\n",
       "  <__main__.Card at 0x7f406c519f40>],\n",
       " [<__main__.Card at 0x7f40705e1760>,\n",
       "  <__main__.Card at 0x7f406c5050a0>,\n",
       "  <__main__.Card at 0x7f406c545b80>,\n",
       "  <__main__.Card at 0x7f406c545610>,\n",
       "  <__main__.Card at 0x7f406c5052b0>,\n",
       "  <__main__.Card at 0x7f406c5051f0>,\n",
       "  <__main__.Card at 0x7f407062efa0>,\n",
       "  <__main__.Card at 0x7f406c545c70>],\n",
       " [<__main__.Card at 0x7f40705e1160>,\n",
       "  <__main__.Card at 0x7f406c505130>,\n",
       "  <__main__.Card at 0x7f406c519d60>,\n",
       "  <__main__.Card at 0x7f40705e1a00>]]"
      ]
     },
     "execution_count": 18,
     "metadata": {},
     "output_type": "execute_result"
    }
   ],
   "source": [
    "rows"
   ]
  },
  {
   "cell_type": "code",
   "execution_count": 19,
   "metadata": {},
   "outputs": [],
   "source": [
    "tableaus = list(zip_longest(*rows,fillvalue=None))"
   ]
  },
  {
   "cell_type": "code",
   "execution_count": 20,
   "metadata": {},
   "outputs": [],
   "source": [
    "tableaus = [list(t) for t in tableaus]"
   ]
  },
  {
   "cell_type": "code",
   "execution_count": 21,
   "metadata": {},
   "outputs": [
    {
     "data": {
      "text/plain": [
       "[[<__main__.Card at 0x7f406c519c70>,\n",
       "  <__main__.Card at 0x7f406c545e80>,\n",
       "  <__main__.Card at 0x7f406c519af0>,\n",
       "  <__main__.Card at 0x7f406c5457f0>,\n",
       "  <__main__.Card at 0x7f406c545cd0>,\n",
       "  <__main__.Card at 0x7f40705e1760>,\n",
       "  <__main__.Card at 0x7f40705e1160>],\n",
       " [<__main__.Card at 0x7f406c505d00>,\n",
       "  <__main__.Card at 0x7f40705e1ac0>,\n",
       "  <__main__.Card at 0x7f406c545ee0>,\n",
       "  <__main__.Card at 0x7f406c545af0>,\n",
       "  <__main__.Card at 0x7f406c505250>,\n",
       "  <__main__.Card at 0x7f406c5050a0>,\n",
       "  <__main__.Card at 0x7f406c505130>],\n",
       " [<__main__.Card at 0x7f406c519f10>,\n",
       "  <__main__.Card at 0x7f406c519ca0>,\n",
       "  <__main__.Card at 0x7f406c5456a0>,\n",
       "  <__main__.Card at 0x7f406c519e20>,\n",
       "  <__main__.Card at 0x7f406c5195e0>,\n",
       "  <__main__.Card at 0x7f406c545b80>,\n",
       "  <__main__.Card at 0x7f406c519d60>],\n",
       " [<__main__.Card at 0x7f406c519d00>,\n",
       "  <__main__.Card at 0x7f406c545d60>,\n",
       "  <__main__.Card at 0x7f407062e970>,\n",
       "  <__main__.Card at 0x7f406c519eb0>,\n",
       "  <__main__.Card at 0x7f40705e13a0>,\n",
       "  <__main__.Card at 0x7f406c545610>,\n",
       "  <__main__.Card at 0x7f40705e1a00>],\n",
       " [<__main__.Card at 0x7f406c545d30>,\n",
       "  <__main__.Card at 0x7f406c519700>,\n",
       "  <__main__.Card at 0x7f406c505280>,\n",
       "  <__main__.Card at 0x7f406c505160>,\n",
       "  <__main__.Card at 0x7f406c545f10>,\n",
       "  <__main__.Card at 0x7f406c5052b0>,\n",
       "  None],\n",
       " [<__main__.Card at 0x7f406c519fa0>,\n",
       "  <__main__.Card at 0x7f40705e1fa0>,\n",
       "  <__main__.Card at 0x7f407062eaf0>,\n",
       "  <__main__.Card at 0x7f406c5450a0>,\n",
       "  <__main__.Card at 0x7f406c519c40>,\n",
       "  <__main__.Card at 0x7f406c5051f0>,\n",
       "  None],\n",
       " [<__main__.Card at 0x7f406c545f70>,\n",
       "  <__main__.Card at 0x7f406c545fa0>,\n",
       "  <__main__.Card at 0x7f406c519a90>,\n",
       "  <__main__.Card at 0x7f407062e850>,\n",
       "  <__main__.Card at 0x7f406c545a00>,\n",
       "  <__main__.Card at 0x7f407062efa0>,\n",
       "  None],\n",
       " [<__main__.Card at 0x7f406c519dc0>,\n",
       "  <__main__.Card at 0x7f406c545820>,\n",
       "  <__main__.Card at 0x7f40705e12e0>,\n",
       "  <__main__.Card at 0x7f40705e1460>,\n",
       "  <__main__.Card at 0x7f406c519f40>,\n",
       "  <__main__.Card at 0x7f406c545c70>,\n",
       "  None]]"
      ]
     },
     "execution_count": 21,
     "metadata": {},
     "output_type": "execute_result"
    }
   ],
   "source": [
    "tableaus"
   ]
  },
  {
   "cell_type": "code",
   "execution_count": 22,
   "metadata": {},
   "outputs": [],
   "source": [
    "tableaus = [[c for c in t if c is not None] for t in tableaus]"
   ]
  },
  {
   "cell_type": "code",
   "execution_count": 23,
   "metadata": {},
   "outputs": [
    {
     "data": {
      "text/plain": [
       "[[<__main__.Card at 0x7f406c519c70>,\n",
       "  <__main__.Card at 0x7f406c545e80>,\n",
       "  <__main__.Card at 0x7f406c519af0>,\n",
       "  <__main__.Card at 0x7f406c5457f0>,\n",
       "  <__main__.Card at 0x7f406c545cd0>,\n",
       "  <__main__.Card at 0x7f40705e1760>,\n",
       "  <__main__.Card at 0x7f40705e1160>],\n",
       " [<__main__.Card at 0x7f406c505d00>,\n",
       "  <__main__.Card at 0x7f40705e1ac0>,\n",
       "  <__main__.Card at 0x7f406c545ee0>,\n",
       "  <__main__.Card at 0x7f406c545af0>,\n",
       "  <__main__.Card at 0x7f406c505250>,\n",
       "  <__main__.Card at 0x7f406c5050a0>,\n",
       "  <__main__.Card at 0x7f406c505130>],\n",
       " [<__main__.Card at 0x7f406c519f10>,\n",
       "  <__main__.Card at 0x7f406c519ca0>,\n",
       "  <__main__.Card at 0x7f406c5456a0>,\n",
       "  <__main__.Card at 0x7f406c519e20>,\n",
       "  <__main__.Card at 0x7f406c5195e0>,\n",
       "  <__main__.Card at 0x7f406c545b80>,\n",
       "  <__main__.Card at 0x7f406c519d60>],\n",
       " [<__main__.Card at 0x7f406c519d00>,\n",
       "  <__main__.Card at 0x7f406c545d60>,\n",
       "  <__main__.Card at 0x7f407062e970>,\n",
       "  <__main__.Card at 0x7f406c519eb0>,\n",
       "  <__main__.Card at 0x7f40705e13a0>,\n",
       "  <__main__.Card at 0x7f406c545610>,\n",
       "  <__main__.Card at 0x7f40705e1a00>],\n",
       " [<__main__.Card at 0x7f406c545d30>,\n",
       "  <__main__.Card at 0x7f406c519700>,\n",
       "  <__main__.Card at 0x7f406c505280>,\n",
       "  <__main__.Card at 0x7f406c505160>,\n",
       "  <__main__.Card at 0x7f406c545f10>,\n",
       "  <__main__.Card at 0x7f406c5052b0>],\n",
       " [<__main__.Card at 0x7f406c519fa0>,\n",
       "  <__main__.Card at 0x7f40705e1fa0>,\n",
       "  <__main__.Card at 0x7f407062eaf0>,\n",
       "  <__main__.Card at 0x7f406c5450a0>,\n",
       "  <__main__.Card at 0x7f406c519c40>,\n",
       "  <__main__.Card at 0x7f406c5051f0>],\n",
       " [<__main__.Card at 0x7f406c545f70>,\n",
       "  <__main__.Card at 0x7f406c545fa0>,\n",
       "  <__main__.Card at 0x7f406c519a90>,\n",
       "  <__main__.Card at 0x7f407062e850>,\n",
       "  <__main__.Card at 0x7f406c545a00>,\n",
       "  <__main__.Card at 0x7f407062efa0>],\n",
       " [<__main__.Card at 0x7f406c519dc0>,\n",
       "  <__main__.Card at 0x7f406c545820>,\n",
       "  <__main__.Card at 0x7f40705e12e0>,\n",
       "  <__main__.Card at 0x7f40705e1460>,\n",
       "  <__main__.Card at 0x7f406c519f40>,\n",
       "  <__main__.Card at 0x7f406c545c70>]]"
      ]
     },
     "execution_count": 23,
     "metadata": {},
     "output_type": "execute_result"
    }
   ],
   "source": [
    "tableaus"
   ]
  },
  {
   "cell_type": "code",
   "execution_count": 24,
   "metadata": {},
   "outputs": [
    {
     "name": "stdout",
     "output_type": "stream",
     "text": [
      "7\n",
      "7\n",
      "7\n",
      "7\n",
      "6\n",
      "6\n",
      "6\n",
      "6\n"
     ]
    }
   ],
   "source": [
    "for t in tableaus:\n",
    "    print(len(t))"
   ]
  },
  {
   "cell_type": "code",
   "execution_count": 27,
   "metadata": {},
   "outputs": [
    {
     "name": "stdout",
     "output_type": "stream",
     "text": [
      "['4D', '6H', '3H', '9D', '9S', '6D', 'TC', 'QD']\n",
      "['9C', '5C', '4H', '2S', '8D', '3C', 'JC', '4S']\n",
      "['5H', '6S', '7S', '2D', 'JH', '3D', 'TD', '7C']\n",
      "['8S', 'TS', 'KD', '2H', 'QH', 'AS', 'AD', '2C']\n",
      "['KC', '9H', '7D', '4C', 'QS', 'AH', '5S', '5D']\n",
      "['6C', '7H', 'QC', '3S', 'TH', '8H', 'KS', 'JS']\n",
      "['8C', 'KH', 'JD', 'AC']\n"
     ]
    }
   ],
   "source": [
    "for r in rows:\n",
    "    print([c.getCardName() for c in r])"
   ]
  },
  {
   "cell_type": "code",
   "execution_count": 28,
   "metadata": {},
   "outputs": [
    {
     "name": "stdout",
     "output_type": "stream",
     "text": [
      "['4D', '9C', '5H', '8S', 'KC', '6C', '8C']\n",
      "['6H', '5C', '6S', 'TS', '9H', '7H', 'KH']\n",
      "['3H', '4H', '7S', 'KD', '7D', 'QC', 'JD']\n",
      "['9D', '2S', '2D', '2H', '4C', '3S', 'AC']\n",
      "['9S', '8D', 'JH', 'QH', 'QS', 'TH']\n",
      "['6D', '3C', '3D', 'AS', 'AH', '8H']\n",
      "['TC', 'JC', 'TD', 'AD', '5S', 'KS']\n",
      "['QD', '4S', '7C', '2C', '5D', 'JS']\n"
     ]
    }
   ],
   "source": [
    "for t in tableaus:\n",
    "    print([c.getCardName() for c in t])"
   ]
  },
  {
   "cell_type": "code",
   "execution_count": null,
   "metadata": {},
   "outputs": [],
   "source": []
  }
 ],
 "metadata": {
  "colab": {
   "collapsed_sections": [],
   "include_colab_link": true,
   "provenance": []
  },
  "kernelspec": {
   "display_name": "Python 3 (ipykernel)",
   "language": "python",
   "name": "python3"
  },
  "language_info": {
   "codemirror_mode": {
    "name": "ipython",
    "version": 3
   },
   "file_extension": ".py",
   "mimetype": "text/x-python",
   "name": "python",
   "nbconvert_exporter": "python",
   "pygments_lexer": "ipython3",
   "version": "3.8.10"
  }
 },
 "nbformat": 4,
 "nbformat_minor": 1
}
