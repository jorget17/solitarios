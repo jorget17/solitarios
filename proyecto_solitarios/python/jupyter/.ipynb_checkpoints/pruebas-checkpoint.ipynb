{
 "cells": [
  {
   "cell_type": "code",
   "execution_count": 1,
   "id": "f5b11afd",
   "metadata": {},
   "outputs": [],
   "source": [
    "from shuffle import shuffleDeck, shuffleDeckFromNumber, decks"
   ]
  },
  {
   "cell_type": "code",
   "execution_count": 2,
   "id": "e819a404",
   "metadata": {},
   "outputs": [],
   "source": [
    "gameDeck = decks['french2Decks']"
   ]
  },
  {
   "cell_type": "code",
   "execution_count": 3,
   "id": "40754887",
   "metadata": {},
   "outputs": [
    {
     "data": {
      "text/plain": [
       "'Doble Baraja Francesa - 104 Cartas'"
      ]
     },
     "execution_count": 3,
     "metadata": {},
     "output_type": "execute_result"
    }
   ],
   "source": [
    "gameDeck.deckName"
   ]
  },
  {
   "cell_type": "code",
   "execution_count": null,
   "id": "59269c8d",
   "metadata": {},
   "outputs": [],
   "source": []
  }
 ],
 "metadata": {
  "kernelspec": {
   "display_name": "Python 3",
   "language": "python",
   "name": "python3"
  },
  "language_info": {
   "codemirror_mode": {
    "name": "ipython",
    "version": 3
   },
   "file_extension": ".py",
   "mimetype": "text/x-python",
   "name": "python",
   "nbconvert_exporter": "python",
   "pygments_lexer": "ipython3",
   "version": "3.7.3"
  }
 },
 "nbformat": 4,
 "nbformat_minor": 5
}
