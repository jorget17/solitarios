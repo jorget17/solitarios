{
 "cells": [
  {
   "cell_type": "code",
   "execution_count": 1,
   "id": "25eeceb8",
   "metadata": {},
   "outputs": [],
   "source": [
    "# 1. importar librerías\n",
    "\n",
    "from bs4 import BeautifulSoup as bs\n",
    "import lxml\n",
    "import requests\n",
    "import re\n",
    "import os\n",
    "from datetime import datetime"
   ]
  },
  {
   "cell_type": "code",
   "execution_count": 30,
   "id": "962a8228",
   "metadata": {},
   "outputs": [],
   "source": [
    "# 2. seleccionar directorio que contiene los sudokus\n",
    "\n",
    "with os.scandir('./sudokus/') as entries:\n",
    "    \n",
    "    with open('weeklyExtreme.csv', 'w') as out:\n",
    "        \n",
    "        for file in entries:\n",
    "\n",
    "            input_file = file\n",
    "            file_name = file.name\n",
    "\n",
    "            with open(input_file) as html_file:\n",
    "\n",
    "                contenido = html_file.read()\n",
    "                soup = bs(contenido, 'lxml')\n",
    "\n",
    "                number = soup.find('td').text.split('\\n')[2]\n",
    "                number = number.replace('Number ', '')\n",
    "                number = number.replace(', Extreme', '')\n",
    "\n",
    "                sudoku_table = soup.find_all('td', class_='InnerTDone')\n",
    "\n",
    "                sudoku = [[0 if value == '\\xa0' else int(cell.text) for value in cell.text] for cell in sudoku_table]\n",
    "\n",
    "                sudoku = ''.join([str(element[0]) for element in sudoku])\n",
    "\n",
    "                out.write(f'{number}|{sudoku}\\n')\n",
    "\n",
    "            "
   ]
  },
  {
   "cell_type": "code",
   "execution_count": null,
   "id": "afaec6fc",
   "metadata": {},
   "outputs": [],
   "source": []
  }
 ],
 "metadata": {
  "kernelspec": {
   "display_name": "Python 3 (ipykernel)",
   "language": "python",
   "name": "python3"
  },
  "language_info": {
   "codemirror_mode": {
    "name": "ipython",
    "version": 3
   },
   "file_extension": ".py",
   "mimetype": "text/x-python",
   "name": "python",
   "nbconvert_exporter": "python",
   "pygments_lexer": "ipython3",
   "version": "3.10.12"
  }
 },
 "nbformat": 4,
 "nbformat_minor": 5
}
