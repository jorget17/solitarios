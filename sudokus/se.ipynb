{
 "cells": [
  {
   "cell_type": "code",
   "execution_count": 1,
   "id": "b498ed69",
   "metadata": {},
   "outputs": [],
   "source": [
    "from bs4 import BeautifulSoup as bs\n",
    "import lxml\n",
    "import requests\n",
    "import re\n",
    "import os\n",
    "import pandas as pd"
   ]
  },
  {
   "cell_type": "code",
   "execution_count": 2,
   "id": "e9cafd4c",
   "metadata": {},
   "outputs": [],
   "source": [
    "pattern = 'value=\"\\d\"'\n",
    "\n",
    "with os.scandir(\"./html/\") as entries:\n",
    "    \n",
    "    with open('st.csv', 'w') as csv_out:\n",
    "    \n",
    "        for file in entries:\n",
    "            input_file = file\n",
    "\n",
    "\n",
    "            with open(input_file) as html_file:\n",
    "\n",
    "                contenido = html_file.read()\n",
    "                soup = bs(contenido, 'lxml')\n",
    "\n",
    "                # Fecha\n",
    "\n",
    "                fecha = soup.find('div', class_='f-f-and-m').text.split(' ')\n",
    "                weekday = fecha[0]\n",
    "                day = fecha[1]\n",
    "                month = fecha[2]\n",
    "                year = fecha[3]\n",
    "\n",
    "                # Dificultad\n",
    "\n",
    "                dificultad = soup.find('div', class_='game-type').text.replace('Sudoku - ', '').split(' ')\n",
    "\n",
    "                # Numero Sudoku\n",
    "\n",
    "                listaNumSudoku = soup.find('span', class_='game-id').text.split(' ')\n",
    "                numeroSudoku = listaNumSudoku[1].replace(',', '')\n",
    "\n",
    "                # Tabla Puzzle\n",
    "\n",
    "                # Las coordenadas representan Columna,Fila\n",
    "\n",
    "                cadena = []\n",
    "\n",
    "                tablaPuzzle = soup.find('table', attrs={'id': 'puzzle'})\n",
    "                for row in tablaPuzzle:\n",
    "                    tableRow = tablaPuzzle.find_all('tr')\n",
    "                    for row in tableRow:\n",
    "                        for cell in row:\n",
    "                            value = re.search(pattern, str(cell))\n",
    "                            if value == None:\n",
    "                                value = 0\n",
    "                            else:\n",
    "                                value = value.group(0).replace('value=', '')\n",
    "                                value = value.replace('\"', '')\n",
    "                                value = int(value)\n",
    "                            cadena.append(str(value))\n",
    "\n",
    "                    sudoku = ''.join(cadena)\n",
    "                    \n",
    "                    csv_out.write(f'{sudoku}|{weekday}, {day} {month} {year}|{numeroSudoku}|{dificultad[1]}\\n')"
   ]
  },
  {
   "cell_type": "code",
   "execution_count": null,
   "id": "15b01abc",
   "metadata": {},
   "outputs": [],
   "source": []
  }
 ],
 "metadata": {
  "kernelspec": {
   "display_name": "Python 3 (ipykernel)",
   "language": "python",
   "name": "python3"
  },
  "language_info": {
   "codemirror_mode": {
    "name": "ipython",
    "version": 3
   },
   "file_extension": ".py",
   "mimetype": "text/x-python",
   "name": "python",
   "nbconvert_exporter": "python",
   "pygments_lexer": "ipython3",
   "version": "3.8.10"
  }
 },
 "nbformat": 4,
 "nbformat_minor": 5
}
