{
 "cells": [
  {
   "cell_type": "code",
   "execution_count": 1,
   "id": "3d23a8a7",
   "metadata": {},
   "outputs": [],
   "source": [
    "from bs4 import BeautifulSoup as bs\n",
    "import lxml\n",
    "import requests\n",
    "import re\n",
    "import os\n",
    "from datetime import datetime"
   ]
  },
  {
   "cell_type": "code",
   "execution_count": 15,
   "id": "bfd8d15b",
   "metadata": {},
   "outputs": [
    {
     "name": "stdout",
     "output_type": "stream",
     "text": [
      "['Thursday', '1st', 'February', '2024'] ['Tough', '6,487']\n",
      "[<td data-coords=\"1,1\"><input class=\"input\" disabled=\"\" inputmode=\"numeric\" maxlength=\"1\" pattern=\"[0-9]*\" style=\"font-size: 67.6491px;\" type=\"text\" x-inputmode=\"numeric\"/></td>, <td data-coords=\"1,1\"><input class=\"input\" disabled=\"\" inputmode=\"numeric\" maxlength=\"1\" pattern=\"[0-9]*\" style=\"font-size: 67.6491px;\" type=\"text\" x-inputmode=\"numeric\"/></td>, <td data-coords=\"1,1\"><input class=\"input\" disabled=\"\" inputmode=\"numeric\" maxlength=\"1\" pattern=\"[0-9]*\" style=\"font-size: 67.6491px;\" type=\"text\" x-inputmode=\"numeric\"/></td>, <td data-coords=\"1,1\"><input class=\"input\" disabled=\"\" inputmode=\"numeric\" maxlength=\"1\" pattern=\"[0-9]*\" style=\"font-size: 67.6491px;\" type=\"text\" x-inputmode=\"numeric\"/></td>, <td data-coords=\"1,1\"><input class=\"input\" disabled=\"\" inputmode=\"numeric\" maxlength=\"1\" pattern=\"[0-9]*\" style=\"font-size: 67.6491px;\" type=\"text\" x-inputmode=\"numeric\"/></td>, <td data-coords=\"1,1\"><input class=\"input\" disabled=\"\" inputmode=\"numeric\" maxlength=\"1\" pattern=\"[0-9]*\" style=\"font-size: 67.6491px;\" type=\"text\" x-inputmode=\"numeric\"/></td>, <td data-coords=\"1,1\"><input class=\"input\" disabled=\"\" inputmode=\"numeric\" maxlength=\"1\" pattern=\"[0-9]*\" style=\"font-size: 67.6491px;\" type=\"text\" x-inputmode=\"numeric\"/></td>, <td data-coords=\"1,1\"><input class=\"input\" disabled=\"\" inputmode=\"numeric\" maxlength=\"1\" pattern=\"[0-9]*\" style=\"font-size: 67.6491px;\" type=\"text\" x-inputmode=\"numeric\"/></td>, <td data-coords=\"1,1\"><input class=\"input\" disabled=\"\" inputmode=\"numeric\" maxlength=\"1\" pattern=\"[0-9]*\" style=\"font-size: 67.6491px;\" type=\"text\" x-inputmode=\"numeric\"/></td>, <td data-coords=\"1,1\"><input class=\"input\" disabled=\"\" inputmode=\"numeric\" maxlength=\"1\" pattern=\"[0-9]*\" style=\"font-size: 67.6491px;\" type=\"text\" x-inputmode=\"numeric\"/></td>, <td data-coords=\"1,1\"><input class=\"input\" disabled=\"\" inputmode=\"numeric\" maxlength=\"1\" pattern=\"[0-9]*\" style=\"font-size: 67.6491px;\" type=\"text\" x-inputmode=\"numeric\"/></td>, <td data-coords=\"1,1\"><input class=\"input\" disabled=\"\" inputmode=\"numeric\" maxlength=\"1\" pattern=\"[0-9]*\" style=\"font-size: 67.6491px;\" type=\"text\" x-inputmode=\"numeric\"/></td>, <td data-coords=\"1,1\"><input class=\"input\" disabled=\"\" inputmode=\"numeric\" maxlength=\"1\" pattern=\"[0-9]*\" style=\"font-size: 67.6491px;\" type=\"text\" x-inputmode=\"numeric\"/></td>, <td data-coords=\"1,1\"><input class=\"input\" disabled=\"\" inputmode=\"numeric\" maxlength=\"1\" pattern=\"[0-9]*\" style=\"font-size: 67.6491px;\" type=\"text\" x-inputmode=\"numeric\"/></td>, <td data-coords=\"1,1\"><input class=\"input\" disabled=\"\" inputmode=\"numeric\" maxlength=\"1\" pattern=\"[0-9]*\" style=\"font-size: 67.6491px;\" type=\"text\" x-inputmode=\"numeric\"/></td>, <td data-coords=\"1,1\"><input class=\"input\" disabled=\"\" inputmode=\"numeric\" maxlength=\"1\" pattern=\"[0-9]*\" style=\"font-size: 67.6491px;\" type=\"text\" x-inputmode=\"numeric\"/></td>, <td data-coords=\"1,1\"><input class=\"input\" disabled=\"\" inputmode=\"numeric\" maxlength=\"1\" pattern=\"[0-9]*\" style=\"font-size: 67.6491px;\" type=\"text\" x-inputmode=\"numeric\"/></td>, <td data-coords=\"1,1\"><input class=\"input\" disabled=\"\" inputmode=\"numeric\" maxlength=\"1\" pattern=\"[0-9]*\" style=\"font-size: 67.6491px;\" type=\"text\" x-inputmode=\"numeric\"/></td>, <td data-coords=\"1,1\"><input class=\"input\" disabled=\"\" inputmode=\"numeric\" maxlength=\"1\" pattern=\"[0-9]*\" style=\"font-size: 67.6491px;\" type=\"text\" x-inputmode=\"numeric\"/></td>, <td data-coords=\"1,1\"><input class=\"input\" disabled=\"\" inputmode=\"numeric\" maxlength=\"1\" pattern=\"[0-9]*\" style=\"font-size: 67.6491px;\" type=\"text\" x-inputmode=\"numeric\"/></td>, <td data-coords=\"1,1\"><input class=\"input\" disabled=\"\" inputmode=\"numeric\" maxlength=\"1\" pattern=\"[0-9]*\" style=\"font-size: 67.6491px;\" type=\"text\" x-inputmode=\"numeric\"/></td>, <td data-coords=\"1,1\"><input class=\"input\" disabled=\"\" inputmode=\"numeric\" maxlength=\"1\" pattern=\"[0-9]*\" style=\"font-size: 67.6491px;\" type=\"text\" x-inputmode=\"numeric\"/></td>, <td data-coords=\"1,1\"><input class=\"input\" disabled=\"\" inputmode=\"numeric\" maxlength=\"1\" pattern=\"[0-9]*\" style=\"font-size: 67.6491px;\" type=\"text\" x-inputmode=\"numeric\"/></td>, <td data-coords=\"1,1\"><input class=\"input\" disabled=\"\" inputmode=\"numeric\" maxlength=\"1\" pattern=\"[0-9]*\" style=\"font-size: 67.6491px;\" type=\"text\" x-inputmode=\"numeric\"/></td>, <td data-coords=\"1,1\"><input class=\"input\" disabled=\"\" inputmode=\"numeric\" maxlength=\"1\" pattern=\"[0-9]*\" style=\"font-size: 67.6491px;\" type=\"text\" x-inputmode=\"numeric\"/></td>, <td data-coords=\"1,1\"><input class=\"input\" disabled=\"\" inputmode=\"numeric\" maxlength=\"1\" pattern=\"[0-9]*\" style=\"font-size: 67.6491px;\" type=\"text\" x-inputmode=\"numeric\"/></td>, <td data-coords=\"1,1\"><input class=\"input\" disabled=\"\" inputmode=\"numeric\" maxlength=\"1\" pattern=\"[0-9]*\" style=\"font-size: 67.6491px;\" type=\"text\" x-inputmode=\"numeric\"/></td>, <td data-coords=\"1,1\"><input class=\"input\" disabled=\"\" inputmode=\"numeric\" maxlength=\"1\" pattern=\"[0-9]*\" style=\"font-size: 67.6491px;\" type=\"text\" x-inputmode=\"numeric\"/></td>, <td data-coords=\"1,1\"><input class=\"input\" disabled=\"\" inputmode=\"numeric\" maxlength=\"1\" pattern=\"[0-9]*\" style=\"font-size: 67.6491px;\" type=\"text\" x-inputmode=\"numeric\"/></td>, <td data-coords=\"1,1\"><input class=\"input\" disabled=\"\" inputmode=\"numeric\" maxlength=\"1\" pattern=\"[0-9]*\" style=\"font-size: 67.6491px;\" type=\"text\" x-inputmode=\"numeric\"/></td>, <td data-coords=\"1,1\"><input class=\"input\" disabled=\"\" inputmode=\"numeric\" maxlength=\"1\" pattern=\"[0-9]*\" style=\"font-size: 67.6491px;\" type=\"text\" x-inputmode=\"numeric\"/></td>, <td data-coords=\"1,1\"><input class=\"input\" disabled=\"\" inputmode=\"numeric\" maxlength=\"1\" pattern=\"[0-9]*\" style=\"font-size: 67.6491px;\" type=\"text\" x-inputmode=\"numeric\"/></td>, <td data-coords=\"1,1\"><input class=\"input\" disabled=\"\" inputmode=\"numeric\" maxlength=\"1\" pattern=\"[0-9]*\" style=\"font-size: 67.6491px;\" type=\"text\" x-inputmode=\"numeric\"/></td>, <td data-coords=\"1,1\"><input class=\"input\" disabled=\"\" inputmode=\"numeric\" maxlength=\"1\" pattern=\"[0-9]*\" style=\"font-size: 67.6491px;\" type=\"text\" x-inputmode=\"numeric\"/></td>, <td data-coords=\"1,1\"><input class=\"input\" disabled=\"\" inputmode=\"numeric\" maxlength=\"1\" pattern=\"[0-9]*\" style=\"font-size: 67.6491px;\" type=\"text\" x-inputmode=\"numeric\"/></td>, <td data-coords=\"1,1\"><input class=\"input\" disabled=\"\" inputmode=\"numeric\" maxlength=\"1\" pattern=\"[0-9]*\" style=\"font-size: 67.6491px;\" type=\"text\" x-inputmode=\"numeric\"/></td>, <td data-coords=\"1,1\"><input class=\"input\" disabled=\"\" inputmode=\"numeric\" maxlength=\"1\" pattern=\"[0-9]*\" style=\"font-size: 67.6491px;\" type=\"text\" x-inputmode=\"numeric\"/></td>, <td data-coords=\"1,1\"><input class=\"input\" disabled=\"\" inputmode=\"numeric\" maxlength=\"1\" pattern=\"[0-9]*\" style=\"font-size: 67.6491px;\" type=\"text\" x-inputmode=\"numeric\"/></td>, <td data-coords=\"1,1\"><input class=\"input\" disabled=\"\" inputmode=\"numeric\" maxlength=\"1\" pattern=\"[0-9]*\" style=\"font-size: 67.6491px;\" type=\"text\" x-inputmode=\"numeric\"/></td>, <td data-coords=\"1,1\"><input class=\"input\" disabled=\"\" inputmode=\"numeric\" maxlength=\"1\" pattern=\"[0-9]*\" style=\"font-size: 67.6491px;\" type=\"text\" x-inputmode=\"numeric\"/></td>, <td data-coords=\"1,1\"><input class=\"input\" disabled=\"\" inputmode=\"numeric\" maxlength=\"1\" pattern=\"[0-9]*\" style=\"font-size: 67.6491px;\" type=\"text\" x-inputmode=\"numeric\"/></td>, <td data-coords=\"1,1\"><input class=\"input\" disabled=\"\" inputmode=\"numeric\" maxlength=\"1\" pattern=\"[0-9]*\" style=\"font-size: 67.6491px;\" type=\"text\" x-inputmode=\"numeric\"/></td>, <td data-coords=\"1,1\"><input class=\"input\" disabled=\"\" inputmode=\"numeric\" maxlength=\"1\" pattern=\"[0-9]*\" style=\"font-size: 67.6491px;\" type=\"text\" x-inputmode=\"numeric\"/></td>, <td data-coords=\"1,1\"><input class=\"input\" disabled=\"\" inputmode=\"numeric\" maxlength=\"1\" pattern=\"[0-9]*\" style=\"font-size: 67.6491px;\" type=\"text\" x-inputmode=\"numeric\"/></td>, <td data-coords=\"1,1\"><input class=\"input\" disabled=\"\" inputmode=\"numeric\" maxlength=\"1\" pattern=\"[0-9]*\" style=\"font-size: 67.6491px;\" type=\"text\" x-inputmode=\"numeric\"/></td>, <td data-coords=\"1,1\"><input class=\"input\" disabled=\"\" inputmode=\"numeric\" maxlength=\"1\" pattern=\"[0-9]*\" style=\"font-size: 67.6491px;\" type=\"text\" x-inputmode=\"numeric\"/></td>, <td data-coords=\"1,1\"><input class=\"input\" disabled=\"\" inputmode=\"numeric\" maxlength=\"1\" pattern=\"[0-9]*\" style=\"font-size: 67.6491px;\" type=\"text\" x-inputmode=\"numeric\"/></td>, <td data-coords=\"1,1\"><input class=\"input\" disabled=\"\" inputmode=\"numeric\" maxlength=\"1\" pattern=\"[0-9]*\" style=\"font-size: 67.6491px;\" type=\"text\" x-inputmode=\"numeric\"/></td>, <td data-coords=\"1,1\"><input class=\"input\" disabled=\"\" inputmode=\"numeric\" maxlength=\"1\" pattern=\"[0-9]*\" style=\"font-size: 67.6491px;\" type=\"text\" x-inputmode=\"numeric\"/></td>, <td data-coords=\"1,1\"><input class=\"input\" disabled=\"\" inputmode=\"numeric\" maxlength=\"1\" pattern=\"[0-9]*\" style=\"font-size: 67.6491px;\" type=\"text\" x-inputmode=\"numeric\"/></td>, <td data-coords=\"1,1\"><input class=\"input\" disabled=\"\" inputmode=\"numeric\" maxlength=\"1\" pattern=\"[0-9]*\" style=\"font-size: 67.6491px;\" type=\"text\" x-inputmode=\"numeric\"/></td>, <td data-coords=\"1,1\"><input class=\"input\" disabled=\"\" inputmode=\"numeric\" maxlength=\"1\" pattern=\"[0-9]*\" style=\"font-size: 67.6491px;\" type=\"text\" x-inputmode=\"numeric\"/></td>, <td data-coords=\"1,1\"><input class=\"input\" disabled=\"\" inputmode=\"numeric\" maxlength=\"1\" pattern=\"[0-9]*\" style=\"font-size: 67.6491px;\" type=\"text\" x-inputmode=\"numeric\"/></td>, <td data-coords=\"1,1\"><input class=\"input\" disabled=\"\" inputmode=\"numeric\" maxlength=\"1\" pattern=\"[0-9]*\" style=\"font-size: 67.6491px;\" type=\"text\" x-inputmode=\"numeric\"/></td>, <td data-coords=\"1,1\"><input class=\"input\" disabled=\"\" inputmode=\"numeric\" maxlength=\"1\" pattern=\"[0-9]*\" style=\"font-size: 67.6491px;\" type=\"text\" x-inputmode=\"numeric\"/></td>, <td data-coords=\"1,1\"><input class=\"input\" disabled=\"\" inputmode=\"numeric\" maxlength=\"1\" pattern=\"[0-9]*\" style=\"font-size: 67.6491px;\" type=\"text\" x-inputmode=\"numeric\"/></td>, <td data-coords=\"1,1\"><input class=\"input\" disabled=\"\" inputmode=\"numeric\" maxlength=\"1\" pattern=\"[0-9]*\" style=\"font-size: 67.6491px;\" type=\"text\" x-inputmode=\"numeric\"/></td>, <td data-coords=\"1,1\"><input class=\"input\" disabled=\"\" inputmode=\"numeric\" maxlength=\"1\" pattern=\"[0-9]*\" style=\"font-size: 67.6491px;\" type=\"text\" x-inputmode=\"numeric\"/></td>, <td data-coords=\"1,1\"><input class=\"input\" disabled=\"\" inputmode=\"numeric\" maxlength=\"1\" pattern=\"[0-9]*\" style=\"font-size: 67.6491px;\" type=\"text\" x-inputmode=\"numeric\"/></td>, <td data-coords=\"1,1\"><input class=\"input\" disabled=\"\" inputmode=\"numeric\" maxlength=\"1\" pattern=\"[0-9]*\" style=\"font-size: 67.6491px;\" type=\"text\" x-inputmode=\"numeric\"/></td>, <td data-coords=\"1,1\"><input class=\"input\" disabled=\"\" inputmode=\"numeric\" maxlength=\"1\" pattern=\"[0-9]*\" style=\"font-size: 67.6491px;\" type=\"text\" x-inputmode=\"numeric\"/></td>, <td data-coords=\"1,1\"><input class=\"input\" disabled=\"\" inputmode=\"numeric\" maxlength=\"1\" pattern=\"[0-9]*\" style=\"font-size: 67.6491px;\" type=\"text\" x-inputmode=\"numeric\"/></td>, <td data-coords=\"1,1\"><input class=\"input\" disabled=\"\" inputmode=\"numeric\" maxlength=\"1\" pattern=\"[0-9]*\" style=\"font-size: 67.6491px;\" type=\"text\" x-inputmode=\"numeric\"/></td>, <td data-coords=\"1,1\"><input class=\"input\" disabled=\"\" inputmode=\"numeric\" maxlength=\"1\" pattern=\"[0-9]*\" style=\"font-size: 67.6491px;\" type=\"text\" x-inputmode=\"numeric\"/></td>, <td data-coords=\"1,1\"><input class=\"input\" disabled=\"\" inputmode=\"numeric\" maxlength=\"1\" pattern=\"[0-9]*\" style=\"font-size: 67.6491px;\" type=\"text\" x-inputmode=\"numeric\"/></td>, <td data-coords=\"1,1\"><input class=\"input\" disabled=\"\" inputmode=\"numeric\" maxlength=\"1\" pattern=\"[0-9]*\" style=\"font-size: 67.6491px;\" type=\"text\" x-inputmode=\"numeric\"/></td>, <td data-coords=\"1,1\"><input class=\"input\" disabled=\"\" inputmode=\"numeric\" maxlength=\"1\" pattern=\"[0-9]*\" style=\"font-size: 67.6491px;\" type=\"text\" x-inputmode=\"numeric\"/></td>, <td data-coords=\"1,1\"><input class=\"input\" disabled=\"\" inputmode=\"numeric\" maxlength=\"1\" pattern=\"[0-9]*\" style=\"font-size: 67.6491px;\" type=\"text\" x-inputmode=\"numeric\"/></td>, <td data-coords=\"1,1\"><input class=\"input\" disabled=\"\" inputmode=\"numeric\" maxlength=\"1\" pattern=\"[0-9]*\" style=\"font-size: 67.6491px;\" type=\"text\" x-inputmode=\"numeric\"/></td>, <td data-coords=\"1,1\"><input class=\"input\" disabled=\"\" inputmode=\"numeric\" maxlength=\"1\" pattern=\"[0-9]*\" style=\"font-size: 67.6491px;\" type=\"text\" x-inputmode=\"numeric\"/></td>, <td data-coords=\"1,1\"><input class=\"input\" disabled=\"\" inputmode=\"numeric\" maxlength=\"1\" pattern=\"[0-9]*\" style=\"font-size: 67.6491px;\" type=\"text\" x-inputmode=\"numeric\"/></td>, <td data-coords=\"1,1\"><input class=\"input\" disabled=\"\" inputmode=\"numeric\" maxlength=\"1\" pattern=\"[0-9]*\" style=\"font-size: 67.6491px;\" type=\"text\" x-inputmode=\"numeric\"/></td>, <td data-coords=\"1,1\"><input class=\"input\" disabled=\"\" inputmode=\"numeric\" maxlength=\"1\" pattern=\"[0-9]*\" style=\"font-size: 67.6491px;\" type=\"text\" x-inputmode=\"numeric\"/></td>, <td data-coords=\"1,1\"><input class=\"input\" disabled=\"\" inputmode=\"numeric\" maxlength=\"1\" pattern=\"[0-9]*\" style=\"font-size: 67.6491px;\" type=\"text\" x-inputmode=\"numeric\"/></td>, <td data-coords=\"1,1\"><input class=\"input\" disabled=\"\" inputmode=\"numeric\" maxlength=\"1\" pattern=\"[0-9]*\" style=\"font-size: 67.6491px;\" type=\"text\" x-inputmode=\"numeric\"/></td>, <td data-coords=\"1,1\"><input class=\"input\" disabled=\"\" inputmode=\"numeric\" maxlength=\"1\" pattern=\"[0-9]*\" style=\"font-size: 67.6491px;\" type=\"text\" x-inputmode=\"numeric\"/></td>, <td data-coords=\"1,1\"><input class=\"input\" disabled=\"\" inputmode=\"numeric\" maxlength=\"1\" pattern=\"[0-9]*\" style=\"font-size: 67.6491px;\" type=\"text\" x-inputmode=\"numeric\"/></td>, <td data-coords=\"1,1\"><input class=\"input\" disabled=\"\" inputmode=\"numeric\" maxlength=\"1\" pattern=\"[0-9]*\" style=\"font-size: 67.6491px;\" type=\"text\" x-inputmode=\"numeric\"/></td>, <td data-coords=\"1,1\"><input class=\"input\" disabled=\"\" inputmode=\"numeric\" maxlength=\"1\" pattern=\"[0-9]*\" style=\"font-size: 67.6491px;\" type=\"text\" x-inputmode=\"numeric\"/></td>, <td data-coords=\"1,1\"><input class=\"input\" disabled=\"\" inputmode=\"numeric\" maxlength=\"1\" pattern=\"[0-9]*\" style=\"font-size: 67.6491px;\" type=\"text\" x-inputmode=\"numeric\"/></td>, <td data-coords=\"1,1\"><input class=\"input\" disabled=\"\" inputmode=\"numeric\" maxlength=\"1\" pattern=\"[0-9]*\" style=\"font-size: 67.6491px;\" type=\"text\" x-inputmode=\"numeric\"/></td>]\n"
     ]
    }
   ],
   "source": [
    "pattern = 'value=\"\\d\"'\n",
    "\n",
    "with os.scandir(\"./html/\") as entries:\n",
    "\n",
    "    for file in entries:\n",
    "        input_file = file\n",
    "        file_name = file.name\n",
    "\n",
    "        with open(input_file) as html_file:\n",
    "\n",
    "            file_name = html_file.name\n",
    "\n",
    "            soup = bs(html_file.read(), 'lxml')\n",
    "\n",
    "            date = soup.find('div', class_='f-f-and-m').text.split(' ')\n",
    "\n",
    "            info = soup.find('div', class_='game-type').text.replace('Sudoku - ', '').split(' ')\n",
    "\n",
    "            info = [x for x in info if x not in ['', '\\n', '|\\n\\n']]\n",
    "            \n",
    "            cadena = []\n",
    "            \n",
    "            tablaPuzzle = soup.find('table', attrs={'id': 'puzzle'})\n",
    "            \n",
    "            cells = [tablaPuzzle.find('td') for cell in tablaPuzzle.find_all('td')]\n",
    "            \n",
    "            '''\n",
    "            \n",
    "            for row in tablaPuzzle:\n",
    "                tableRow = tablaPuzzle.find_all('tr')\n",
    "                for row in tableRow:\n",
    "                    for cell in row:\n",
    "                        value = re.search(pattern, str(cell))\n",
    "                        if value == None:\n",
    "                            value = 0\n",
    "                        else:\n",
    "                            value = value.group(0).replace('value=', '')\n",
    "                            value = value.replace('\"', '')\n",
    "                            value = int(value)\n",
    "                        cadena.append(str(value))\n",
    "\n",
    "                sudoku = ''.join(cadena)\n",
    "                \n",
    "            '''\n",
    "            \n",
    "            print(date, info)\n",
    "            \n",
    "            print(cells)"
   ]
  },
  {
   "cell_type": "code",
   "execution_count": null,
   "id": "8c4060fd",
   "metadata": {},
   "outputs": [],
   "source": []
  }
 ],
 "metadata": {
  "kernelspec": {
   "display_name": "Python 3 (ipykernel)",
   "language": "python",
   "name": "python3"
  },
  "language_info": {
   "codemirror_mode": {
    "name": "ipython",
    "version": 3
   },
   "file_extension": ".py",
   "mimetype": "text/x-python",
   "name": "python",
   "nbconvert_exporter": "python",
   "pygments_lexer": "ipython3",
   "version": "3.10.12"
  }
 },
 "nbformat": 4,
 "nbformat_minor": 5
}
