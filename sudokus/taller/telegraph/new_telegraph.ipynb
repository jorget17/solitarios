{
 "cells": [
  {
   "cell_type": "code",
   "execution_count": 1,
   "id": "3d23a8a7",
   "metadata": {},
   "outputs": [],
   "source": [
    "from bs4 import BeautifulSoup as bs\n",
    "import lxml\n",
    "import requests\n",
    "import re, json\n",
    "import os\n",
    "from datetime import datetime"
   ]
  },
  {
   "cell_type": "code",
   "execution_count": 2,
   "id": "5951a4d0",
   "metadata": {},
   "outputs": [],
   "source": [
    "def generate_sudoku_string(scrapped_sudoku):\n",
    "\n",
    "    sudoku_raw = {'1,1': 0, '2,1': 0, '3,1': 0, '4,1': 0, '5,1': 0, '6,1': 0, '7,1': 0, '8,1': 0, '9,1': 0,\n",
    "                  '1,2': 0, '2,2': 0, '3,2': 0, '4,2': 0, '5,2': 0, '6,2': 0, '7,2': 0, '8,2': 0, '9,2': 0,\n",
    "                  '1,3': 0, '2,3': 0, '3,3': 0, '4,3': 0, '5,3': 0, '6,3': 0, '7,3': 0, '8,3': 0, '9,3': 0,\n",
    "                  '1,4': 0, '2,4': 0, '3,4': 0, '4,4': 0, '5,4': 0, '6,4': 0, '7,4': 0, '8,4': 0, '9,4': 0,\n",
    "                  '1,5': 0, '2,5': 0, '3,5': 0, '4,5': 0, '5,5': 0, '6,5': 0, '7,5': 0, '8,5': 0, '9,5': 0,\n",
    "                  '1,6': 0, '2,6': 0, '3,6': 0, '4,6': 0, '5,6': 0, '6,6': 0, '7,6': 0, '8,6': 0, '9,6': 0,\n",
    "                  '1,7': 0, '2,7': 0, '3,7': 0, '4,7': 0, '5,7': 0, '6,7': 0, '7,7': 0, '8,7': 0, '9,7': 0,\n",
    "                  '1,8': 0, '2,8': 0, '3,8': 0, '4,8': 0, '5,8': 0, '6,8': 0, '7,8': 0, '8,8': 0, '9,8': 0,\n",
    "                  '1,9': 0, '2,9': 0, '3,9': 0, '4,9': 0, '5,9': 0, '6,9': 0, '7,9': 0, '8,9': 0, '9,9': 0}\n",
    "    \n",
    "    sudoku_raw.update(scrapped_sudoku)\n",
    "\n",
    "    return ''.join([str(x) for x in list(sudoku_raw.values())])"
   ]
  },
  {
   "cell_type": "code",
   "execution_count": 3,
   "id": "de19a2a1",
   "metadata": {},
   "outputs": [],
   "source": [
    "with os.scandir('./html/') as entries:\n",
    "\n",
    "    with open('./telegraph.csv', 'w') as telegraph_out:\n",
    "\n",
    "        for file in entries:\n",
    "\n",
    "            t = open(file, 'r')\n",
    "\n",
    "            content = [v for v in t.readlines()]\n",
    "\n",
    "            match = str([e for e in content if 'puzzleData' in e][0]).replace('        var puzzleData = ', '').replace(';', '')\n",
    "\n",
    "            sudoku_dict = json.loads(match)\n",
    "\n",
    "            sudoku_data = sudoku_dict['build']\n",
    "\n",
    "            input_file = file\n",
    "\n",
    "            with open(input_file) as html_file:\n",
    "\n",
    "                contenido = html_file.read()\n",
    "\n",
    "                soup = bs(contenido, 'lxml')\n",
    "\n",
    "                game_id = int(soup.find('span', class_='game-id').text.replace(' ', '').replace(',', ''))\n",
    "\n",
    "                fecha = soup.find('div', class_='f-f-and-m').text.split(' ')\n",
    "\n",
    "                weekday = fecha[0]\n",
    "                ordDay = fecha[1]\n",
    "                month = fecha[2]\n",
    "                year = fecha[3]\n",
    "                day = str(ordDay).replace('th', '')\n",
    "                day = day.replace('st', '')\n",
    "                day = day.replace('rd', '')\n",
    "                day = day.replace('nd', '')\n",
    "                date = f'{weekday}, {day} {month} {year}'\n",
    "                date2 = datetime.strptime(date, '%A, %d %B %Y')\n",
    "                date3 = f'{date2.year}-{str(date2.month).zfill(2)}-{str(date2.day).zfill(2)}'\n",
    "                date4 = f'{str(date2.day).zfill(2)}/{str(date2.month).zfill(2)}/{date2.year}'\n",
    "\n",
    "            telegraph_out.write(f'{generate_sudoku_string(sudoku_data)}|{date4}|DLT|TGH|{str(game_id).zfill(5)}\\n')\n",
    "\n",
    "\n"
   ]
  },
  {
   "cell_type": "code",
   "execution_count": null,
   "id": "8c4060fd",
   "metadata": {},
   "outputs": [],
   "source": []
  },
  {
   "cell_type": "code",
   "execution_count": null,
   "id": "f7cd18ce",
   "metadata": {},
   "outputs": [],
   "source": []
  }
 ],
 "metadata": {
  "kernelspec": {
   "display_name": "Python 3 (ipykernel)",
   "language": "python",
   "name": "python3"
  },
  "language_info": {
   "codemirror_mode": {
    "name": "ipython",
    "version": 3
   },
   "file_extension": ".py",
   "mimetype": "text/x-python",
   "name": "python",
   "nbconvert_exporter": "python",
   "pygments_lexer": "ipython3",
   "version": "3.10.12"
  }
 },
 "nbformat": 4,
 "nbformat_minor": 5
}
