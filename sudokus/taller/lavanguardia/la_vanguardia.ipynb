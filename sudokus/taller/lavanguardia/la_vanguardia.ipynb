{
 "cells": [
  {
   "cell_type": "code",
   "execution_count": 1,
   "id": "3d23a8a7",
   "metadata": {},
   "outputs": [],
   "source": [
    "from bs4 import BeautifulSoup as bs\n",
    "import lxml\n",
    "import requests\n",
    "import re, json\n",
    "import os\n",
    "from datetime import datetime"
   ]
  },
  {
   "cell_type": "code",
   "execution_count": 16,
   "id": "de19a2a1",
   "metadata": {},
   "outputs": [],
   "source": [
    "with os.scandir('./html/') as entries:\n",
    "\n",
    "    with open('./la_vanguardia.csv', 'w') as la_vanguardia_out:\n",
    "\n",
    "        for file in entries:\n",
    "\n",
    "            input_file = file\n",
    "\n",
    "            with open(input_file) as html_file:\n",
    "\n",
    "                contenido = html_file.read()\n",
    "\n",
    "                soup = bs(contenido, 'lxml')\n",
    "\n",
    "                fecha = soup.find('p', class_='-em-mt-2').text.replace(', ', '.').split('.')\n",
    "\n",
    "                day, month, year = fecha[1], fecha[2], fecha[3]\n",
    "\n",
    "                date_raw = f'{day}/{month}/20{year}'\n",
    "\n",
    "                sudoku = ''.join([x.text for x in soup.find_all('div', class_='em-border-l')]).replace('12345678910', '0')\n",
    "\n",
    "            la_vanguardia_out.write(f'{sudoku}|{date_raw}|LVN|EXP|00000\\n')"
   ]
  },
  {
   "cell_type": "code",
   "execution_count": null,
   "id": "8c4060fd",
   "metadata": {},
   "outputs": [],
   "source": []
  },
  {
   "cell_type": "code",
   "execution_count": null,
   "id": "f7cd18ce",
   "metadata": {},
   "outputs": [],
   "source": []
  }
 ],
 "metadata": {
  "kernelspec": {
   "display_name": "Python 3 (ipykernel)",
   "language": "python",
   "name": "python3"
  },
  "language_info": {
   "codemirror_mode": {
    "name": "ipython",
    "version": 3
   },
   "file_extension": ".py",
   "mimetype": "text/x-python",
   "name": "python",
   "nbconvert_exporter": "python",
   "pygments_lexer": "ipython3",
   "version": "3.10.12"
  }
 },
 "nbformat": 4,
 "nbformat_minor": 5
}
