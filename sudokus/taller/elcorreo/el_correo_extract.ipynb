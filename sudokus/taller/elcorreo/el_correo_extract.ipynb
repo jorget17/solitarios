{
 "cells": [
  {
   "cell_type": "code",
   "execution_count": 1,
   "metadata": {},
   "outputs": [],
   "source": [
    "from bs4 import BeautifulSoup as bs\n",
    "import lxml\n",
    "import requests\n",
    "import re, json\n",
    "import os\n",
    "from datetime import datetime"
   ]
  },
  {
   "cell_type": "code",
   "execution_count": 3,
   "metadata": {},
   "outputs": [],
   "source": [
    "with os.scandir('./html/') as entries:\n",
    "\n",
    "    with open('./el_correo.csv', 'w') as correo_out:\n",
    "\n",
    "        for file in entries:\n",
    "\n",
    "            input_file = file\n",
    "\n",
    "            with open(input_file) as html_file:\n",
    "\n",
    "                contenido = html_file.read()\n",
    "\n",
    "                soup = bs(contenido, 'lxml')\n",
    "\n",
    "                date_str = soup.find('div', class_='footer-title').text\n",
    "\n",
    "                date = datetime.strptime(date_str, '%B %d, %Y')\n",
    "                date = f'{str(date.day).zfill(2)}/{str(date.month).zfill(2)}/{date.year}'\n",
    "\n",
    "                givens = ''.join([x.text for x in soup.find_all('span', class_='letter-in-box')]).replace(' ', '0')\n",
    "\n",
    "                correo_out.write(f'{givens}|{date}|ELC|DIF|00000\\n')\n",
    "\n"
   ]
  },
  {
   "cell_type": "code",
   "execution_count": null,
   "metadata": {},
   "outputs": [],
   "source": []
  }
 ],
 "metadata": {
  "kernelspec": {
   "display_name": "Python 3",
   "language": "python",
   "name": "python3"
  },
  "language_info": {
   "codemirror_mode": {
    "name": "ipython",
    "version": 3
   },
   "file_extension": ".py",
   "mimetype": "text/x-python",
   "name": "python",
   "nbconvert_exporter": "python",
   "pygments_lexer": "ipython3",
   "version": "3.10.12"
  }
 },
 "nbformat": 4,
 "nbformat_minor": 2
}
