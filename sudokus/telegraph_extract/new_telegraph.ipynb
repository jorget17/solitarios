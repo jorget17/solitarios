{
 "cells": [
  {
   "cell_type": "code",
   "execution_count": 1,
   "id": "2de83fc2",
   "metadata": {},
   "outputs": [],
   "source": [
    "from bs4 import BeautifulSoup as bs\n",
    "import lxml\n",
    "import os"
   ]
  },
  {
   "cell_type": "code",
   "execution_count": 2,
   "id": "53165833",
   "metadata": {},
   "outputs": [],
   "source": [
    "with os.scandir(\"./html/\") as entries:\n",
    "    \n",
    "    with open('tg.csv', 'w') as csv_out:\n",
    "    \n",
    "        for file in entries:\n",
    "            input_file = file\n",
    "            file_name = file.name\n",
    "\n",
    "\n",
    "            with open(input_file) as html_file:                \n",
    "\n",
    "                contenido = html_file.read()\n",
    "                soup = bs(contenido, 'lxml')\n",
    "\n",
    "                info = soup.find('div', class_='hangboard').text\n",
    "\n",
    "                info = info.replace(' NO. ','|')\n",
    "                info = info.replace(',','')\n",
    "                info = info.replace(' Sudoku Tough','TGH')\n",
    "                info = info.replace(' ','')\n",
    "                info = info.replace('\\n', '')\n",
    "                info = info.split('|')\n",
    "\n",
    "                table = soup.find('table', class_='sudoku-grid')\n",
    "\n",
    "                cells = table.find_all('span', class_='entered-number')\n",
    "\n",
    "                grid = []\n",
    "\n",
    "                for cell in cells:\n",
    "                    if cell.text == '':\n",
    "                        value = '0'\n",
    "                    else:\n",
    "                        value = cell.text\n",
    "\n",
    "                    grid.append(value)\n",
    "\n",
    "                sudoku = ''.join(grid)\n",
    "\n",
    "                level = info[0]\n",
    "                numeroSudoku = info[1]\n",
    "                \n",
    "                csv_out.write(f'{sudoku}|{numeroSudoku}|{level}\\n')"
   ]
  },
  {
   "cell_type": "code",
   "execution_count": null,
   "id": "fc42b383-3e28-4c4f-b8dc-09543241d190",
   "metadata": {},
   "outputs": [],
   "source": []
  }
 ],
 "metadata": {
  "kernelspec": {
   "display_name": "Python 3 (ipykernel)",
   "language": "python",
   "name": "python3"
  },
  "language_info": {
   "codemirror_mode": {
    "name": "ipython",
    "version": 3
   },
   "file_extension": ".py",
   "mimetype": "text/x-python",
   "name": "python",
   "nbconvert_exporter": "python",
   "pygments_lexer": "ipython3",
   "version": "3.10.12"
  }
 },
 "nbformat": 4,
 "nbformat_minor": 5
}
