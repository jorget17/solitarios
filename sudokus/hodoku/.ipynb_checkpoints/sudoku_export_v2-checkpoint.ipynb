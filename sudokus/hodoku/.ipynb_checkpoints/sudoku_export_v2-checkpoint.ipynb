{
 "cells": [
  {
   "cell_type": "code",
   "execution_count": 1,
   "id": "c2b4b028",
   "metadata": {},
   "outputs": [],
   "source": [
    "import re\n",
    "import pandas as pd\n",
    "import numpy as np"
   ]
  },
  {
   "cell_type": "code",
   "execution_count": 2,
   "id": "82caac4f",
   "metadata": {},
   "outputs": [],
   "source": [
    "with open(\"./hodoku_out.txt\") as r:\n",
    "    one_line = r.read().replace(r\"    Statistics:\", \"ST#\")\n",
    "    one_line = one_line.replace('\\n', 'salto_pag')\n",
    "    one_line = re.sub(r'(salto_pag\\d{81})', r'\\n\\1', one_line)\n",
    "    one_line = re.sub(r'|||Statistics total.*$', '', one_line)\n",
    "    one_line = re.sub(r'\\)salto_pag.*ST#salto_pag', r'#ST!', one_line)\n",
    "    one_line = re.sub(r'(\\d{81}#)', r'\\1|', one_line)\n",
    "    one_line = re.sub(r'\\s#\\d*\\s', r'#', one_line)\n",
    "    one_line = re.sub(r'\\d*:\\s', '', one_line)\n",
    "    one_line = re.sub(r'\\s-\\s*\\d*\\/', '', one_line)\n",
    "    one_line = re.sub(r'(\\d*#ST)', r'#\\1', one_line)\n",
    "    one_line = one_line.replace(r' (#', r'#')\n",
    "    one_line = re.sub(r'salto_pagsalto_pag$', r'', one_line)\n",
    "    one_line = one_line.replace(r'salto_pag', '!')\n",
    "    one_line = re.sub(r'(!)(\\d{81}#)', r'\\2|', one_line)\n",
    "    one_line = one_line.replace(r'|', '')\n",
    "    one_line = one_line.replace(r'#', r'!')\n",
    "    one_line = one_line.replace(r'!ST!', '|')\n",
    "\n",
    "with open(\"./one_line.txt\", \"w\") as w:\n",
    "    w.write(one_line)"
   ]
  },
  {
   "cell_type": "code",
   "execution_count": 3,
   "id": "c2c3ae0a",
   "metadata": {},
   "outputs": [
    {
     "name": "stdout",
     "output_type": "stream",
     "text": [
      "['13', '11', '2022', 'EP', 'DIF', '01232']\n",
      "['13', '11', '2022', 'EP', 'EXP', '01232']\n",
      "['13', '11', '2022', 'NYT', 'MD', 'X']\n",
      "['13', '11', '2022', 'NYT', 'EXP', 'X']\n"
     ]
    }
   ],
   "source": [
    "with open('./one_line.txt', 'r') as input_text, open('export.csv', 'w') as export_csv:\n",
    "    lines = input_text.readlines()\n",
    "    \n",
    "    for line in lines:\n",
    "        partes = line.split('|')\n",
    "        sudoku_info = partes[0].split('!')\n",
    "        \n",
    "        sudoku = sudoku_info[0]\n",
    "        sudoku_data = sudoku_info[1].split('-')\n",
    "        \n",
    "        day = sudoku_data[0]\n",
    "        month = sudoku_data[1]\n",
    "        year = sudoku_data[2]\n",
    "        origin = sudoku_data[3]\n",
    "        dif = sudoku_data[4]\n",
    "        num = sudoku_data[5]\n",
    "        \n",
    "        hodoku_level = sudoku_info[2]\n",
    "        hodoku_value = int(sudoku_info[3])\n",
    "        \n",
    "        techniques_list = []\n",
    "        \n",
    "        stats = partes[1].split('!')\n",
    "        for stat in stats:\n",
    "            number = int(re.search('[0-9]+', stat).group(0))\n",
    "            stat = re.sub('[\\s]+', '', stat)\n",
    "            technique = re.search('[A-Za-z\\s0-9]+', stat)\n",
    "            technique = re.sub('^[0-9]+', '', stat)\n",
    "            \n",
    "            tech_string = f'{number} {technique}'     \n",
    "            \n",
    "            techniques_list.append(tech_string)\n",
    "            \n",
    "            techniques = '·'.join(techniques_list)\n",
    "            \n",
    "        export_csv.write(f'{sudoku}|{day}|{month}|{year}|{origin}|{dif}|{num}|{hodoku_level}|{hodoku_value}|{techniques}\\n')"
   ]
  },
  {
   "cell_type": "code",
   "execution_count": null,
   "id": "344e9ed2",
   "metadata": {},
   "outputs": [],
   "source": []
  }
 ],
 "metadata": {
  "kernelspec": {
   "display_name": "Python 3 (ipykernel)",
   "language": "python",
   "name": "python3"
  },
  "language_info": {
   "codemirror_mode": {
    "name": "ipython",
    "version": 3
   },
   "file_extension": ".py",
   "mimetype": "text/x-python",
   "name": "python",
   "nbconvert_exporter": "python",
   "pygments_lexer": "ipython3",
   "version": "3.8.10"
  }
 },
 "nbformat": 4,
 "nbformat_minor": 5
}
