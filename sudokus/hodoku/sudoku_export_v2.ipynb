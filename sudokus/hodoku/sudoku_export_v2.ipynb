{
 "cells": [
  {
   "cell_type": "code",
   "execution_count": 1,
   "id": "c2b4b028",
   "metadata": {},
   "outputs": [],
   "source": [
    "import re\n",
    "import pandas as pd\n",
    "import numpy as np"
   ]
  },
  {
   "cell_type": "code",
   "execution_count": 15,
   "id": "82caac4f",
   "metadata": {},
   "outputs": [],
   "source": [
    "with open(\"./hodoku_out.txt\") as r:\n",
    "    one_line = r.read().replace(r\"    Statistics:\", \"ST#\")\n",
    "    one_line = one_line.replace('\\n', 'salto_pag')\n",
    "    one_line = re.sub(r'(salto_pag\\d{81})', r'\\n\\1', one_line)\n",
    "    one_line = re.sub(r'|||Statistics total.*$', '', one_line)\n",
    "    one_line = re.sub(r'\\)salto_pag.*ST#salto_pag', r'#ST!', one_line)\n",
    "    one_line = re.sub(r'(\\d{81}#)', r'\\1|', one_line)\n",
    "    one_line = re.sub(r'\\s#\\d*\\s', r'#', one_line)\n",
    "    one_line = re.sub(r'\\d*:\\s', '', one_line)\n",
    "    one_line = re.sub(r'\\s-\\s*\\d*\\/', '', one_line)\n",
    "    one_line = re.sub(r'(\\d*#ST)', r'#\\1', one_line)\n",
    "    one_line = one_line.replace(r' (#', r'#')\n",
    "    one_line = re.sub(r'salto_pagsalto_pag$', r'', one_line)\n",
    "    one_line = one_line.replace(r'salto_pag', '!')\n",
    "    one_line = re.sub(r'(!)(\\d{81}#)', r'\\2|', one_line)\n",
    "    one_line = one_line.replace(r'|', '')\n",
    "    one_line = one_line.replace(r'#', r'!')\n",
    "    one_line = one_line.replace(r'!ST!', '|')\n",
    "\n",
    "with open(\"./one_line.txt\", \"w\") as w:\n",
    "    w.write(one_line)"
   ]
  },
  {
   "cell_type": "code",
   "execution_count": 53,
   "id": "c2c3ae0a",
   "metadata": {},
   "outputs": [
    {
     "name": "stdout",
     "output_type": "stream",
     "text": [
      "['21']\n",
      "['9']\n",
      "['26']\n",
      "['1', '1']\n",
      "['20']\n",
      "['12']\n",
      "['24']\n",
      "['1']\n",
      "['1']\n",
      "['2', '1']\n",
      "['2', '2']\n",
      "['21']\n",
      "['15']\n",
      "['21']\n",
      "['1']\n",
      "['2', '1']\n",
      "['20']\n",
      "['11']\n",
      "['25']\n",
      "['1']\n",
      "['2', '1']\n",
      "['1', '2']\n"
     ]
    }
   ],
   "source": [
    "with open('./one_line.txt', 'r') as input_text, open('export.csv', 'w') as export_csv:\n",
    "    lines = input_text.readlines()\n",
    "    \n",
    "    for line in lines:\n",
    "        partes = line.split('|')\n",
    "        sudoku_info = partes[0].split('!')\n",
    "        stats = partes[1].split('!')\n",
    "        for stat in stats:\n",
    "            number = re.findall('[0-9]+', stat)\n",
    "            \n",
    "            print(number)"
   ]
  },
  {
   "cell_type": "code",
   "execution_count": 27,
   "id": "a1e5eed6",
   "metadata": {},
   "outputs": [
    {
     "data": {
      "text/plain": [
       "['300290000500000900008300000000080010200700500007002064010000053060100720030600000#13#11#2022#EP#DIF #1 Medium (364)',\n",
       " '010560030509000020200070080000200000030700000102050870800300004090000000300008006#13#11#2022#EP#EXP #2 Medium (644)',\n",
       " '050049300000000070000010600009000508003091000200085000040052000001600040600000020#13#11#2022#NYT#MD #3 Medium (518)',\n",
       " '028001040000030020010005800000004070900000634007300000000000000005087260001600007#13#11#2022#NYT#EXP #4 Medium (524)']"
      ]
     },
     "execution_count": 27,
     "metadata": {},
     "output_type": "execute_result"
    }
   ],
   "source": [
    "sudokus"
   ]
  },
  {
   "cell_type": "code",
   "execution_count": 21,
   "id": "ae58508e",
   "metadata": {},
   "outputs": [
    {
     "data": {
      "text/plain": [
       "[]"
      ]
     },
     "execution_count": 21,
     "metadata": {},
     "output_type": "execute_result"
    }
   ],
   "source": [
    "stats_list"
   ]
  },
  {
   "cell_type": "code",
   "execution_count": null,
   "id": "1bfb74d9",
   "metadata": {},
   "outputs": [],
   "source": [
    "sudoku_lines"
   ]
  },
  {
   "cell_type": "code",
   "execution_count": null,
   "id": "f90d2c0b",
   "metadata": {},
   "outputs": [],
   "source": []
  }
 ],
 "metadata": {
  "kernelspec": {
   "display_name": "Python 3 (ipykernel)",
   "language": "python",
   "name": "python3"
  },
  "language_info": {
   "codemirror_mode": {
    "name": "ipython",
    "version": 3
   },
   "file_extension": ".py",
   "mimetype": "text/x-python",
   "name": "python",
   "nbconvert_exporter": "python",
   "pygments_lexer": "ipython3",
   "version": "3.8.10"
  }
 },
 "nbformat": 4,
 "nbformat_minor": 5
}
