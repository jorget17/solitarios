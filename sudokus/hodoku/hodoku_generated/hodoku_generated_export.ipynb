{
 "cells": [
  {
   "cell_type": "code",
   "execution_count": 1,
   "id": "c2b4b028",
   "metadata": {},
   "outputs": [],
   "source": [
    "import re\n",
    "import pandas as pd\n",
    "import numpy as np"
   ]
  },
  {
   "cell_type": "code",
   "execution_count": 3,
   "id": "82caac4f",
   "metadata": {},
   "outputs": [],
   "source": [
    "with open('./hodoku_generated_out.txt', 'r') as r:\n",
    "    one_line = r.read()\n",
    "    \n",
    "    #1 convierte el texto en una sola linea\n",
    "    one_line = re.sub(r'\\n', r'salto_pag', one_line)\n",
    "    \n",
    "    #2 crea un salto de página antes de cada sudoku\n",
    "    one_line = re.sub(r'(salto_pag)([0-9]{81})', r'\\n\\2', one_line)\n",
    "    \n",
    "    #3 elimina las estadisticas totales al final del documento\n",
    "    one_line = re.sub(r'salto_pagsalto_pagStatistics total.*salto_pag$', r'', one_line)\n",
    "    \n",
    "    #4 elimina los pasos individuales para la resolucion de cada sudoku\n",
    "    one_line = re.sub(r'\\)salto_pag.*Statistics:salto_pag', r'|#ST', one_line)\n",
    "    \n",
    "    #5 arregla el nivel de dificultad y su valor numérico\n",
    "    one_line = re.sub(r' \\(([0-9]{3,7})', r'#\\1', one_line)\n",
    "    \n",
    "    #6 elimina la numeración asignada por Hodoku a los sudokus\n",
    "    one_line = re.sub(r' #[0-9]+ ', r'#', one_line)\n",
    "    \n",
    "    #7 extrae el numero de veces que se repiten los pasos\n",
    "    one_line = re.sub(r'( +)([0-9]+)( -)', r'!\\2¡', one_line)\n",
    "    \n",
    "    #8 elimina los espacios y el número anterior al /\n",
    "    one_line = re.sub(r' +[0-9]+/ +[0-9]+:', r'', one_line)\n",
    "    \n",
    "    #9 elimina los salto_pag añadidos en el paso 1\n",
    "    one_line = one_line.replace('salto_pag', '')\n",
    "    \n",
    "    #10 elimina el espacio entre el numero de pasos y el paso\n",
    "    one_line = one_line.replace('¡ ', '¡')\n",
    "    \n",
    "    #11 elimina los espacios en blanco\n",
    "    one_line = one_line.replace(' ', '')\n",
    "    \n",
    "    #12 elimina #ST!\n",
    "    one_line = one_line.replace('#ST!', '')\n",
    "    \n",
    "    #13 sustituye los # por -\n",
    "    one_line = one_line.replace('#', '-')\n",
    "\n",
    "with open(\"./hg_one_line.txt\", \"w\") as w:\n",
    "    w.write(one_line)"
   ]
  },
  {
   "cell_type": "code",
   "execution_count": 5,
   "id": "755c9d32",
   "metadata": {},
   "outputs": [],
   "source": [
    "with open('./hg_one_line.txt', 'r') as input_text, open('hg_export.csv', 'w') as export_csv:\n",
    "    lines = input_text.readlines()\n",
    "    \n",
    "    for line in lines:\n",
    "        \n",
    "        partes = line.split('|')\n",
    "        \n",
    "        sudoku_info = partes[0].split('-')\n",
    "        \n",
    "        sudoku, steps, hodoku_level, hodoku_value = sudoku_info \n",
    "                \n",
    "        techniques_list = []\n",
    "        \n",
    "        stats = partes[1].split('!')\n",
    "        \n",
    "        for stat in stats:\n",
    "            step = stat.split('¡')\n",
    "            \n",
    "            step_number, step_name = step\n",
    "            \n",
    "            step_string = f'{step_number} {step_name}'\n",
    "            step_string = step_string.replace('\\n', '')\n",
    "            \n",
    "            techniques_list.append(step_string)\n",
    "            \n",
    "            techniques = '·'.join(techniques_list)\n",
    "            \n",
    "        export_csv.write(f'{sudoku}|{steps}|{hodoku_level}|{hodoku_value}|{techniques}\\n')"
   ]
  },
  {
   "cell_type": "code",
   "execution_count": null,
   "id": "344e9ed2",
   "metadata": {},
   "outputs": [],
   "source": []
  }
 ],
 "metadata": {
  "kernelspec": {
   "display_name": "Python 3 (ipykernel)",
   "language": "python",
   "name": "python3"
  },
  "language_info": {
   "codemirror_mode": {
    "name": "ipython",
    "version": 3
   },
   "file_extension": ".py",
   "mimetype": "text/x-python",
   "name": "python",
   "nbconvert_exporter": "python",
   "pygments_lexer": "ipython3",
   "version": "3.8.10"
  }
 },
 "nbformat": 4,
 "nbformat_minor": 5
}
