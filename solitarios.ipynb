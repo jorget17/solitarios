{
  "nbformat": 4,
  "nbformat_minor": 0,
  "metadata": {
    "colab": {
      "provenance": [],
      "collapsed_sections": [],
      "include_colab_link": true
    },
    "kernelspec": {
      "name": "python3",
      "display_name": "Python 3"
    },
    "language_info": {
      "name": "python"
    }
  },
  "cells": [
    {
      "cell_type": "markdown",
      "metadata": {
        "id": "view-in-github",
        "colab_type": "text"
      },
      "source": [
        "<a href=\"https://colab.research.google.com/github/jorget17/solitarios/blob/main/solitarios.ipynb\" target=\"_parent\"><img src=\"https://colab.research.google.com/assets/colab-badge.svg\" alt=\"Open In Colab\"/></a>"
      ]
    },
    {
      "cell_type": "code",
      "source": [
        "# coding=utf-8\n",
        "\n",
        "from math import factorial\n",
        "from random import Random, randint\n",
        "import numpy as np\n",
        "from math import ceil, floor"
      ],
      "metadata": {
        "id": "SzGYK3czEP3H"
      },
      "execution_count": null,
      "outputs": []
    },
    {
      "cell_type": "code",
      "execution_count": null,
      "metadata": {
        "id": "bHakNrRMD4N2"
      },
      "outputs": [],
      "source": [
        "# La clase Deck es un objeto que representa las diferentes barajas que puedan\n",
        "# utilizarse, así como sus métodos: barajar, etc.\n",
        "\n",
        "class Deck:\n",
        "    def __init__(self, deckName, ranks, suits, matrix):\n",
        "        self.deckName = deckName\n",
        "        self.ranks = ranks\n",
        "        self.suits = suits\n",
        "        self.matrix = matrix\n",
        "\n",
        "    def getCards(self):\n",
        "        cardList = [r+s for s in self.suits for r in self.ranks]\n",
        "        cards = []\n",
        "        for c in cardList:\n",
        "            rank = c[0]\n",
        "            suit = c[1]\n",
        "            value = self.matrix['ranksValues'][c[0]]\n",
        "            color = self.matrix['suitsColors'][c[1]]\n",
        "            cards.append({'rank': rank, 'suit': suit, 'value': value,\n",
        "                         'color': color, 'cardName': f'{rank}{suit}',\n",
        "                          'cardImg': f'{rank}{suit}.png'})\n",
        "        return cards\n",
        "\n",
        "    def getLenght(self):\n",
        "        return len(self.getCards())\n",
        "\n",
        "\n",
        "def shuffleDeck(deck): # Baraja las cartas con un seed aleatorio\n",
        "    deal = []\n",
        "    seed = randint(0, factorial(deck.getLenght()))\n",
        "    sortedDeck = deck.getCards()\n",
        "    Random(seed).shuffle(sortedDeck)\n",
        "    deal = sortedDeck\n",
        "    return {'deal': deal,\n",
        "            'seed': seed}\n",
        "\n",
        "\n",
        "def shuffleDeckFromNumber(deck, seed): # Baraja las cartas con un seed determinado\n",
        "    deal = []\n",
        "    sortedDeck = deck.getCards()\n",
        "    Random(seed).shuffle(sortedDeck)\n",
        "    deal = sortedDeck\n",
        "    return {'deal': deal,\n",
        "            'seed': seed}"
      ]
    },
    {
      "cell_type": "code",
      "source": [
        "# Objeto que representa las diferentas barajas que se utilizan en todos los solitarios.\n",
        "# Cada solitario utiliza una baraja concreta que importa de este único objeto.\n",
        "\n",
        "# La baraja se selecciona asignando una variable al inicio de cada solitario que\n",
        "# apunta al objeto decks. Por ejemplo, para jugar un solitario con la baraja española\n",
        "# de 40 cartas se utilizaría lo siguiente:\n",
        "\n",
        "# gameDeck = decks['esp40']\n",
        "\n",
        "decks = {\n",
        "    'frenchDeck': Deck('Baraja Francesa de 52 Cartas',\n",
        "                       'A23456789TJQK', 'CSDH',\n",
        "                       {'ranksValues': {'A': 1, '2': 2, '3': 3, '4': 4, '5': 5, '6': 6, '7': 7,\n",
        "                                        '8': 8, '9': 9, 'T': 10, 'J': 11, 'Q': 12, 'K': 13},\n",
        "                        'suitsColors': {'C': 'black', 'S': 'black', 'H': 'red', 'D': 'red'}}),\n",
        "\n",
        "    'french2Decks': Deck('Doble Baraja Francesa - 104 Cartas',\n",
        "                         'A23456789TJQKA23456789TJQK', 'CSDH',\n",
        "                         {'ranksValues': {'A': 1, '2': 2, '3': 3, '4': 4, '5': 5, '6': 6, '7': 7,\n",
        "                                          '8': 8, '9': 9, 'T': 10, 'J': 11, 'Q': 12, 'K': 13},\n",
        "                          'suitsColors': {'C': 'black', 'S': 'black', 'H': 'red', 'D': 'red'}}),\n",
        "\n",
        "    'esp48': Deck('Baraja Española de 48 Cartas',\n",
        "                  'A23456789SCR', 'OCEB',\n",
        "                  {'ranksValues': {'A': 1, '2': 2, '3': 3, '4': 4, '5': 5, '6': 6, '7': 7,\n",
        "                                   '8': 8, '9': 9, 'S': 10, 'C': 11, 'R': 12},\n",
        "                   'suitsColors': {'O': 'black', 'C': 'black', 'E': 'red', 'B': 'red'}}),\n",
        "\n",
        "    'esp40': Deck('Baraja Española de 40 Cartas',\n",
        "                  'A234567SCR', 'OCEB',\n",
        "                  {'ranksValues': {'A': 1, '2': 2, '3': 3, '4': 4, '5': 5, '6': 6, '7': 7,\n",
        "                                   'S': 8, 'C': 9, 'R': 10},\n",
        "                   'suitsColors': {'O': 'black', 'C': 'black', 'E': 'red', 'B': 'red'}})\n",
        "\n",
        "}"
      ],
      "metadata": {
        "id": "HAW5Cb-tEN_m"
      },
      "execution_count": null,
      "outputs": []
    },
    {
      "cell_type": "code",
      "source": [
        "# Se especifica qué tipo de baraja se utiliza en este solitario en concreto, en este case la francesa\n",
        "\n",
        "gameDeck = decks['frenchDeck']"
      ],
      "metadata": {
        "id": "qPYdwzT8EJl0"
      },
      "execution_count": null,
      "outputs": []
    },
    {
      "cell_type": "code",
      "source": [
        "# Se crea la partida. Esto genera un mazo de cartas de la baraja francesa en un orden concreto con dos datos:\n",
        "# 1. deal > la lista con las cartas en desorden, cada carta es un objeto con atributos suit, rank, value, color, cardName y cardImg\n",
        "# 2. seed > el número aleatorio concreto que ha generado este orden de cardas. Siempre que se utilice este seed el orden de las cartas será el mismo.\n",
        "\n",
        "game = shuffleDeck(gameDeck)"
      ],
      "metadata": {
        "id": "fZCH41VIEt0J"
      },
      "execution_count": null,
      "outputs": []
    },
    {
      "cell_type": "code",
      "source": [
        "game"
      ],
      "metadata": {
        "colab": {
          "base_uri": "https://localhost:8080/"
        },
        "id": "CueySnHfFDf3",
        "outputId": "8cabc541-71e9-46d6-d82b-65368ce6e551"
      },
      "execution_count": null,
      "outputs": [
        {
          "output_type": "execute_result",
          "data": {
            "text/plain": [
              "{'deal': [{'rank': '6',\n",
              "   'suit': 'D',\n",
              "   'value': 6,\n",
              "   'color': 'red',\n",
              "   'cardName': '6D',\n",
              "   'cardImg': '6D.png'},\n",
              "  {'rank': 'Q',\n",
              "   'suit': 'S',\n",
              "   'value': 12,\n",
              "   'color': 'black',\n",
              "   'cardName': 'QS',\n",
              "   'cardImg': 'QS.png'},\n",
              "  {'rank': '7',\n",
              "   'suit': 'S',\n",
              "   'value': 7,\n",
              "   'color': 'black',\n",
              "   'cardName': '7S',\n",
              "   'cardImg': '7S.png'},\n",
              "  {'rank': 'Q',\n",
              "   'suit': 'H',\n",
              "   'value': 12,\n",
              "   'color': 'red',\n",
              "   'cardName': 'QH',\n",
              "   'cardImg': 'QH.png'},\n",
              "  {'rank': '2',\n",
              "   'suit': 'S',\n",
              "   'value': 2,\n",
              "   'color': 'black',\n",
              "   'cardName': '2S',\n",
              "   'cardImg': '2S.png'},\n",
              "  {'rank': 'J',\n",
              "   'suit': 'C',\n",
              "   'value': 11,\n",
              "   'color': 'black',\n",
              "   'cardName': 'JC',\n",
              "   'cardImg': 'JC.png'},\n",
              "  {'rank': '7',\n",
              "   'suit': 'H',\n",
              "   'value': 7,\n",
              "   'color': 'red',\n",
              "   'cardName': '7H',\n",
              "   'cardImg': '7H.png'},\n",
              "  {'rank': '5',\n",
              "   'suit': 'C',\n",
              "   'value': 5,\n",
              "   'color': 'black',\n",
              "   'cardName': '5C',\n",
              "   'cardImg': '5C.png'},\n",
              "  {'rank': '2',\n",
              "   'suit': 'D',\n",
              "   'value': 2,\n",
              "   'color': 'red',\n",
              "   'cardName': '2D',\n",
              "   'cardImg': '2D.png'},\n",
              "  {'rank': 'J',\n",
              "   'suit': 'S',\n",
              "   'value': 11,\n",
              "   'color': 'black',\n",
              "   'cardName': 'JS',\n",
              "   'cardImg': 'JS.png'},\n",
              "  {'rank': '5',\n",
              "   'suit': 'S',\n",
              "   'value': 5,\n",
              "   'color': 'black',\n",
              "   'cardName': '5S',\n",
              "   'cardImg': '5S.png'},\n",
              "  {'rank': '6',\n",
              "   'suit': 'S',\n",
              "   'value': 6,\n",
              "   'color': 'black',\n",
              "   'cardName': '6S',\n",
              "   'cardImg': '6S.png'},\n",
              "  {'rank': '4',\n",
              "   'suit': 'S',\n",
              "   'value': 4,\n",
              "   'color': 'black',\n",
              "   'cardName': '4S',\n",
              "   'cardImg': '4S.png'},\n",
              "  {'rank': 'T',\n",
              "   'suit': 'H',\n",
              "   'value': 10,\n",
              "   'color': 'red',\n",
              "   'cardName': 'TH',\n",
              "   'cardImg': 'TH.png'},\n",
              "  {'rank': '5',\n",
              "   'suit': 'H',\n",
              "   'value': 5,\n",
              "   'color': 'red',\n",
              "   'cardName': '5H',\n",
              "   'cardImg': '5H.png'},\n",
              "  {'rank': '9',\n",
              "   'suit': 'C',\n",
              "   'value': 9,\n",
              "   'color': 'black',\n",
              "   'cardName': '9C',\n",
              "   'cardImg': '9C.png'},\n",
              "  {'rank': '6',\n",
              "   'suit': 'C',\n",
              "   'value': 6,\n",
              "   'color': 'black',\n",
              "   'cardName': '6C',\n",
              "   'cardImg': '6C.png'},\n",
              "  {'rank': '2',\n",
              "   'suit': 'H',\n",
              "   'value': 2,\n",
              "   'color': 'red',\n",
              "   'cardName': '2H',\n",
              "   'cardImg': '2H.png'},\n",
              "  {'rank': '8',\n",
              "   'suit': 'C',\n",
              "   'value': 8,\n",
              "   'color': 'black',\n",
              "   'cardName': '8C',\n",
              "   'cardImg': '8C.png'},\n",
              "  {'rank': '9',\n",
              "   'suit': 'D',\n",
              "   'value': 9,\n",
              "   'color': 'red',\n",
              "   'cardName': '9D',\n",
              "   'cardImg': '9D.png'},\n",
              "  {'rank': 'J',\n",
              "   'suit': 'H',\n",
              "   'value': 11,\n",
              "   'color': 'red',\n",
              "   'cardName': 'JH',\n",
              "   'cardImg': 'JH.png'},\n",
              "  {'rank': '7',\n",
              "   'suit': 'D',\n",
              "   'value': 7,\n",
              "   'color': 'red',\n",
              "   'cardName': '7D',\n",
              "   'cardImg': '7D.png'},\n",
              "  {'rank': '8',\n",
              "   'suit': 'D',\n",
              "   'value': 8,\n",
              "   'color': 'red',\n",
              "   'cardName': '8D',\n",
              "   'cardImg': '8D.png'},\n",
              "  {'rank': '4',\n",
              "   'suit': 'D',\n",
              "   'value': 4,\n",
              "   'color': 'red',\n",
              "   'cardName': '4D',\n",
              "   'cardImg': '4D.png'},\n",
              "  {'rank': '3',\n",
              "   'suit': 'C',\n",
              "   'value': 3,\n",
              "   'color': 'black',\n",
              "   'cardName': '3C',\n",
              "   'cardImg': '3C.png'},\n",
              "  {'rank': 'T',\n",
              "   'suit': 'S',\n",
              "   'value': 10,\n",
              "   'color': 'black',\n",
              "   'cardName': 'TS',\n",
              "   'cardImg': 'TS.png'},\n",
              "  {'rank': '9',\n",
              "   'suit': 'H',\n",
              "   'value': 9,\n",
              "   'color': 'red',\n",
              "   'cardName': '9H',\n",
              "   'cardImg': '9H.png'},\n",
              "  {'rank': 'K',\n",
              "   'suit': 'D',\n",
              "   'value': 13,\n",
              "   'color': 'red',\n",
              "   'cardName': 'KD',\n",
              "   'cardImg': 'KD.png'},\n",
              "  {'rank': 'K',\n",
              "   'suit': 'H',\n",
              "   'value': 13,\n",
              "   'color': 'red',\n",
              "   'cardName': 'KH',\n",
              "   'cardImg': 'KH.png'},\n",
              "  {'rank': 'A',\n",
              "   'suit': 'H',\n",
              "   'value': 1,\n",
              "   'color': 'red',\n",
              "   'cardName': 'AH',\n",
              "   'cardImg': 'AH.png'},\n",
              "  {'rank': 'T',\n",
              "   'suit': 'D',\n",
              "   'value': 10,\n",
              "   'color': 'red',\n",
              "   'cardName': 'TD',\n",
              "   'cardImg': 'TD.png'},\n",
              "  {'rank': 'Q',\n",
              "   'suit': 'C',\n",
              "   'value': 12,\n",
              "   'color': 'black',\n",
              "   'cardName': 'QC',\n",
              "   'cardImg': 'QC.png'},\n",
              "  {'rank': '9',\n",
              "   'suit': 'S',\n",
              "   'value': 9,\n",
              "   'color': 'black',\n",
              "   'cardName': '9S',\n",
              "   'cardImg': '9S.png'},\n",
              "  {'rank': 'A',\n",
              "   'suit': 'S',\n",
              "   'value': 1,\n",
              "   'color': 'black',\n",
              "   'cardName': 'AS',\n",
              "   'cardImg': 'AS.png'},\n",
              "  {'rank': '7',\n",
              "   'suit': 'C',\n",
              "   'value': 7,\n",
              "   'color': 'black',\n",
              "   'cardName': '7C',\n",
              "   'cardImg': '7C.png'},\n",
              "  {'rank': 'A',\n",
              "   'suit': 'D',\n",
              "   'value': 1,\n",
              "   'color': 'red',\n",
              "   'cardName': 'AD',\n",
              "   'cardImg': 'AD.png'},\n",
              "  {'rank': 'T',\n",
              "   'suit': 'C',\n",
              "   'value': 10,\n",
              "   'color': 'black',\n",
              "   'cardName': 'TC',\n",
              "   'cardImg': 'TC.png'},\n",
              "  {'rank': '3',\n",
              "   'suit': 'D',\n",
              "   'value': 3,\n",
              "   'color': 'red',\n",
              "   'cardName': '3D',\n",
              "   'cardImg': '3D.png'},\n",
              "  {'rank': '3',\n",
              "   'suit': 'H',\n",
              "   'value': 3,\n",
              "   'color': 'red',\n",
              "   'cardName': '3H',\n",
              "   'cardImg': '3H.png'},\n",
              "  {'rank': '4',\n",
              "   'suit': 'H',\n",
              "   'value': 4,\n",
              "   'color': 'red',\n",
              "   'cardName': '4H',\n",
              "   'cardImg': '4H.png'},\n",
              "  {'rank': 'Q',\n",
              "   'suit': 'D',\n",
              "   'value': 12,\n",
              "   'color': 'red',\n",
              "   'cardName': 'QD',\n",
              "   'cardImg': 'QD.png'},\n",
              "  {'rank': 'J',\n",
              "   'suit': 'D',\n",
              "   'value': 11,\n",
              "   'color': 'red',\n",
              "   'cardName': 'JD',\n",
              "   'cardImg': 'JD.png'},\n",
              "  {'rank': 'K',\n",
              "   'suit': 'C',\n",
              "   'value': 13,\n",
              "   'color': 'black',\n",
              "   'cardName': 'KC',\n",
              "   'cardImg': 'KC.png'},\n",
              "  {'rank': '4',\n",
              "   'suit': 'C',\n",
              "   'value': 4,\n",
              "   'color': 'black',\n",
              "   'cardName': '4C',\n",
              "   'cardImg': '4C.png'},\n",
              "  {'rank': '3',\n",
              "   'suit': 'S',\n",
              "   'value': 3,\n",
              "   'color': 'black',\n",
              "   'cardName': '3S',\n",
              "   'cardImg': '3S.png'},\n",
              "  {'rank': 'K',\n",
              "   'suit': 'S',\n",
              "   'value': 13,\n",
              "   'color': 'black',\n",
              "   'cardName': 'KS',\n",
              "   'cardImg': 'KS.png'},\n",
              "  {'rank': '6',\n",
              "   'suit': 'H',\n",
              "   'value': 6,\n",
              "   'color': 'red',\n",
              "   'cardName': '6H',\n",
              "   'cardImg': '6H.png'},\n",
              "  {'rank': '8',\n",
              "   'suit': 'H',\n",
              "   'value': 8,\n",
              "   'color': 'red',\n",
              "   'cardName': '8H',\n",
              "   'cardImg': '8H.png'},\n",
              "  {'rank': '5',\n",
              "   'suit': 'D',\n",
              "   'value': 5,\n",
              "   'color': 'red',\n",
              "   'cardName': '5D',\n",
              "   'cardImg': '5D.png'},\n",
              "  {'rank': '2',\n",
              "   'suit': 'C',\n",
              "   'value': 2,\n",
              "   'color': 'black',\n",
              "   'cardName': '2C',\n",
              "   'cardImg': '2C.png'},\n",
              "  {'rank': 'A',\n",
              "   'suit': 'C',\n",
              "   'value': 1,\n",
              "   'color': 'black',\n",
              "   'cardName': 'AC',\n",
              "   'cardImg': 'AC.png'},\n",
              "  {'rank': '8',\n",
              "   'suit': 'S',\n",
              "   'value': 8,\n",
              "   'color': 'black',\n",
              "   'cardName': '8S',\n",
              "   'cardImg': '8S.png'}],\n",
              " 'seed': 56807934985310998760992992519311559746339036402674888009936139049792}"
            ]
          },
          "metadata": {},
          "execution_count": 6
        }
      ]
    },
    {
      "cell_type": "code",
      "source": [
        "game['seed']"
      ],
      "metadata": {
        "colab": {
          "base_uri": "https://localhost:8080/"
        },
        "id": "RONsAzwDF0yr",
        "outputId": "291e3e5c-0a4c-45e3-e965-5be3edadf93c"
      },
      "execution_count": null,
      "outputs": [
        {
          "output_type": "execute_result",
          "data": {
            "text/plain": [
              "56807934985310998760992992519311559746339036402674888009936139049792"
            ]
          },
          "metadata": {},
          "execution_count": 7
        }
      ]
    },
    {
      "cell_type": "code",
      "source": [
        "deal = game['deal']"
      ],
      "metadata": {
        "id": "_DaeXGteQ83M"
      },
      "execution_count": null,
      "outputs": []
    },
    {
      "cell_type": "code",
      "source": [
        "deal"
      ],
      "metadata": {
        "colab": {
          "base_uri": "https://localhost:8080/"
        },
        "id": "D6Tzpqs8U7qN",
        "outputId": "e30aa1eb-105d-40e3-d1ad-910d61a64176"
      },
      "execution_count": null,
      "outputs": [
        {
          "output_type": "execute_result",
          "data": {
            "text/plain": [
              "[{'rank': '6',\n",
              "  'suit': 'D',\n",
              "  'value': 6,\n",
              "  'color': 'red',\n",
              "  'cardName': '6D',\n",
              "  'cardImg': '6D.png'},\n",
              " {'rank': 'Q',\n",
              "  'suit': 'S',\n",
              "  'value': 12,\n",
              "  'color': 'black',\n",
              "  'cardName': 'QS',\n",
              "  'cardImg': 'QS.png'},\n",
              " {'rank': '7',\n",
              "  'suit': 'S',\n",
              "  'value': 7,\n",
              "  'color': 'black',\n",
              "  'cardName': '7S',\n",
              "  'cardImg': '7S.png'},\n",
              " {'rank': 'Q',\n",
              "  'suit': 'H',\n",
              "  'value': 12,\n",
              "  'color': 'red',\n",
              "  'cardName': 'QH',\n",
              "  'cardImg': 'QH.png'},\n",
              " {'rank': '2',\n",
              "  'suit': 'S',\n",
              "  'value': 2,\n",
              "  'color': 'black',\n",
              "  'cardName': '2S',\n",
              "  'cardImg': '2S.png'},\n",
              " {'rank': 'J',\n",
              "  'suit': 'C',\n",
              "  'value': 11,\n",
              "  'color': 'black',\n",
              "  'cardName': 'JC',\n",
              "  'cardImg': 'JC.png'},\n",
              " {'rank': '7',\n",
              "  'suit': 'H',\n",
              "  'value': 7,\n",
              "  'color': 'red',\n",
              "  'cardName': '7H',\n",
              "  'cardImg': '7H.png'},\n",
              " {'rank': '5',\n",
              "  'suit': 'C',\n",
              "  'value': 5,\n",
              "  'color': 'black',\n",
              "  'cardName': '5C',\n",
              "  'cardImg': '5C.png'},\n",
              " {'rank': '2',\n",
              "  'suit': 'D',\n",
              "  'value': 2,\n",
              "  'color': 'red',\n",
              "  'cardName': '2D',\n",
              "  'cardImg': '2D.png'},\n",
              " {'rank': 'J',\n",
              "  'suit': 'S',\n",
              "  'value': 11,\n",
              "  'color': 'black',\n",
              "  'cardName': 'JS',\n",
              "  'cardImg': 'JS.png'},\n",
              " {'rank': '5',\n",
              "  'suit': 'S',\n",
              "  'value': 5,\n",
              "  'color': 'black',\n",
              "  'cardName': '5S',\n",
              "  'cardImg': '5S.png'},\n",
              " {'rank': '6',\n",
              "  'suit': 'S',\n",
              "  'value': 6,\n",
              "  'color': 'black',\n",
              "  'cardName': '6S',\n",
              "  'cardImg': '6S.png'},\n",
              " {'rank': '4',\n",
              "  'suit': 'S',\n",
              "  'value': 4,\n",
              "  'color': 'black',\n",
              "  'cardName': '4S',\n",
              "  'cardImg': '4S.png'},\n",
              " {'rank': 'T',\n",
              "  'suit': 'H',\n",
              "  'value': 10,\n",
              "  'color': 'red',\n",
              "  'cardName': 'TH',\n",
              "  'cardImg': 'TH.png'},\n",
              " {'rank': '5',\n",
              "  'suit': 'H',\n",
              "  'value': 5,\n",
              "  'color': 'red',\n",
              "  'cardName': '5H',\n",
              "  'cardImg': '5H.png'},\n",
              " {'rank': '9',\n",
              "  'suit': 'C',\n",
              "  'value': 9,\n",
              "  'color': 'black',\n",
              "  'cardName': '9C',\n",
              "  'cardImg': '9C.png'},\n",
              " {'rank': '6',\n",
              "  'suit': 'C',\n",
              "  'value': 6,\n",
              "  'color': 'black',\n",
              "  'cardName': '6C',\n",
              "  'cardImg': '6C.png'},\n",
              " {'rank': '2',\n",
              "  'suit': 'H',\n",
              "  'value': 2,\n",
              "  'color': 'red',\n",
              "  'cardName': '2H',\n",
              "  'cardImg': '2H.png'},\n",
              " {'rank': '8',\n",
              "  'suit': 'C',\n",
              "  'value': 8,\n",
              "  'color': 'black',\n",
              "  'cardName': '8C',\n",
              "  'cardImg': '8C.png'},\n",
              " {'rank': '9',\n",
              "  'suit': 'D',\n",
              "  'value': 9,\n",
              "  'color': 'red',\n",
              "  'cardName': '9D',\n",
              "  'cardImg': '9D.png'},\n",
              " {'rank': 'J',\n",
              "  'suit': 'H',\n",
              "  'value': 11,\n",
              "  'color': 'red',\n",
              "  'cardName': 'JH',\n",
              "  'cardImg': 'JH.png'},\n",
              " {'rank': '7',\n",
              "  'suit': 'D',\n",
              "  'value': 7,\n",
              "  'color': 'red',\n",
              "  'cardName': '7D',\n",
              "  'cardImg': '7D.png'},\n",
              " {'rank': '8',\n",
              "  'suit': 'D',\n",
              "  'value': 8,\n",
              "  'color': 'red',\n",
              "  'cardName': '8D',\n",
              "  'cardImg': '8D.png'},\n",
              " {'rank': '4',\n",
              "  'suit': 'D',\n",
              "  'value': 4,\n",
              "  'color': 'red',\n",
              "  'cardName': '4D',\n",
              "  'cardImg': '4D.png'},\n",
              " {'rank': '3',\n",
              "  'suit': 'C',\n",
              "  'value': 3,\n",
              "  'color': 'black',\n",
              "  'cardName': '3C',\n",
              "  'cardImg': '3C.png'},\n",
              " {'rank': 'T',\n",
              "  'suit': 'S',\n",
              "  'value': 10,\n",
              "  'color': 'black',\n",
              "  'cardName': 'TS',\n",
              "  'cardImg': 'TS.png'},\n",
              " {'rank': '9',\n",
              "  'suit': 'H',\n",
              "  'value': 9,\n",
              "  'color': 'red',\n",
              "  'cardName': '9H',\n",
              "  'cardImg': '9H.png'},\n",
              " {'rank': 'K',\n",
              "  'suit': 'D',\n",
              "  'value': 13,\n",
              "  'color': 'red',\n",
              "  'cardName': 'KD',\n",
              "  'cardImg': 'KD.png'},\n",
              " {'rank': 'K',\n",
              "  'suit': 'H',\n",
              "  'value': 13,\n",
              "  'color': 'red',\n",
              "  'cardName': 'KH',\n",
              "  'cardImg': 'KH.png'},\n",
              " {'rank': 'A',\n",
              "  'suit': 'H',\n",
              "  'value': 1,\n",
              "  'color': 'red',\n",
              "  'cardName': 'AH',\n",
              "  'cardImg': 'AH.png'},\n",
              " {'rank': 'T',\n",
              "  'suit': 'D',\n",
              "  'value': 10,\n",
              "  'color': 'red',\n",
              "  'cardName': 'TD',\n",
              "  'cardImg': 'TD.png'},\n",
              " {'rank': 'Q',\n",
              "  'suit': 'C',\n",
              "  'value': 12,\n",
              "  'color': 'black',\n",
              "  'cardName': 'QC',\n",
              "  'cardImg': 'QC.png'},\n",
              " {'rank': '9',\n",
              "  'suit': 'S',\n",
              "  'value': 9,\n",
              "  'color': 'black',\n",
              "  'cardName': '9S',\n",
              "  'cardImg': '9S.png'},\n",
              " {'rank': 'A',\n",
              "  'suit': 'S',\n",
              "  'value': 1,\n",
              "  'color': 'black',\n",
              "  'cardName': 'AS',\n",
              "  'cardImg': 'AS.png'},\n",
              " {'rank': '7',\n",
              "  'suit': 'C',\n",
              "  'value': 7,\n",
              "  'color': 'black',\n",
              "  'cardName': '7C',\n",
              "  'cardImg': '7C.png'},\n",
              " {'rank': 'A',\n",
              "  'suit': 'D',\n",
              "  'value': 1,\n",
              "  'color': 'red',\n",
              "  'cardName': 'AD',\n",
              "  'cardImg': 'AD.png'},\n",
              " {'rank': 'T',\n",
              "  'suit': 'C',\n",
              "  'value': 10,\n",
              "  'color': 'black',\n",
              "  'cardName': 'TC',\n",
              "  'cardImg': 'TC.png'},\n",
              " {'rank': '3',\n",
              "  'suit': 'D',\n",
              "  'value': 3,\n",
              "  'color': 'red',\n",
              "  'cardName': '3D',\n",
              "  'cardImg': '3D.png'},\n",
              " {'rank': '3',\n",
              "  'suit': 'H',\n",
              "  'value': 3,\n",
              "  'color': 'red',\n",
              "  'cardName': '3H',\n",
              "  'cardImg': '3H.png'},\n",
              " {'rank': '4',\n",
              "  'suit': 'H',\n",
              "  'value': 4,\n",
              "  'color': 'red',\n",
              "  'cardName': '4H',\n",
              "  'cardImg': '4H.png'},\n",
              " {'rank': 'Q',\n",
              "  'suit': 'D',\n",
              "  'value': 12,\n",
              "  'color': 'red',\n",
              "  'cardName': 'QD',\n",
              "  'cardImg': 'QD.png'},\n",
              " {'rank': 'J',\n",
              "  'suit': 'D',\n",
              "  'value': 11,\n",
              "  'color': 'red',\n",
              "  'cardName': 'JD',\n",
              "  'cardImg': 'JD.png'},\n",
              " {'rank': 'K',\n",
              "  'suit': 'C',\n",
              "  'value': 13,\n",
              "  'color': 'black',\n",
              "  'cardName': 'KC',\n",
              "  'cardImg': 'KC.png'},\n",
              " {'rank': '4',\n",
              "  'suit': 'C',\n",
              "  'value': 4,\n",
              "  'color': 'black',\n",
              "  'cardName': '4C',\n",
              "  'cardImg': '4C.png'},\n",
              " {'rank': '3',\n",
              "  'suit': 'S',\n",
              "  'value': 3,\n",
              "  'color': 'black',\n",
              "  'cardName': '3S',\n",
              "  'cardImg': '3S.png'},\n",
              " {'rank': 'K',\n",
              "  'suit': 'S',\n",
              "  'value': 13,\n",
              "  'color': 'black',\n",
              "  'cardName': 'KS',\n",
              "  'cardImg': 'KS.png'},\n",
              " {'rank': '6',\n",
              "  'suit': 'H',\n",
              "  'value': 6,\n",
              "  'color': 'red',\n",
              "  'cardName': '6H',\n",
              "  'cardImg': '6H.png'},\n",
              " {'rank': '8',\n",
              "  'suit': 'H',\n",
              "  'value': 8,\n",
              "  'color': 'red',\n",
              "  'cardName': '8H',\n",
              "  'cardImg': '8H.png'},\n",
              " {'rank': '5',\n",
              "  'suit': 'D',\n",
              "  'value': 5,\n",
              "  'color': 'red',\n",
              "  'cardName': '5D',\n",
              "  'cardImg': '5D.png'},\n",
              " {'rank': '2',\n",
              "  'suit': 'C',\n",
              "  'value': 2,\n",
              "  'color': 'black',\n",
              "  'cardName': '2C',\n",
              "  'cardImg': '2C.png'},\n",
              " {'rank': 'A',\n",
              "  'suit': 'C',\n",
              "  'value': 1,\n",
              "  'color': 'black',\n",
              "  'cardName': 'AC',\n",
              "  'cardImg': 'AC.png'},\n",
              " {'rank': '8',\n",
              "  'suit': 'S',\n",
              "  'value': 8,\n",
              "  'color': 'black',\n",
              "  'cardName': '8S',\n",
              "  'cardImg': '8S.png'}]"
            ]
          },
          "metadata": {},
          "execution_count": 9
        }
      ]
    },
    {
      "cell_type": "code",
      "source": [
        "deal_cards = [c['cardName'] for c in deal]"
      ],
      "metadata": {
        "id": "tS9Y-VR_VCqV"
      },
      "execution_count": null,
      "outputs": []
    },
    {
      "cell_type": "code",
      "source": [
        "deal_cards"
      ],
      "metadata": {
        "colab": {
          "base_uri": "https://localhost:8080/"
        },
        "id": "nhOoUt2ZVRLk",
        "outputId": "394bdb10-0f92-4549-87c8-39f2ad4d8a15"
      },
      "execution_count": null,
      "outputs": [
        {
          "output_type": "execute_result",
          "data": {
            "text/plain": [
              "['6D',\n",
              " 'QS',\n",
              " '7S',\n",
              " 'QH',\n",
              " '2S',\n",
              " 'JC',\n",
              " '7H',\n",
              " '5C',\n",
              " '2D',\n",
              " 'JS',\n",
              " '5S',\n",
              " '6S',\n",
              " '4S',\n",
              " 'TH',\n",
              " '5H',\n",
              " '9C',\n",
              " '6C',\n",
              " '2H',\n",
              " '8C',\n",
              " '9D',\n",
              " 'JH',\n",
              " '7D',\n",
              " '8D',\n",
              " '4D',\n",
              " '3C',\n",
              " 'TS',\n",
              " '9H',\n",
              " 'KD',\n",
              " 'KH',\n",
              " 'AH',\n",
              " 'TD',\n",
              " 'QC',\n",
              " '9S',\n",
              " 'AS',\n",
              " '7C',\n",
              " 'AD',\n",
              " 'TC',\n",
              " '3D',\n",
              " '3H',\n",
              " '4H',\n",
              " 'QD',\n",
              " 'JD',\n",
              " 'KC',\n",
              " '4C',\n",
              " '3S',\n",
              " 'KS',\n",
              " '6H',\n",
              " '8H',\n",
              " '5D',\n",
              " '2C',\n",
              " 'AC',\n",
              " '8S']"
            ]
          },
          "metadata": {},
          "execution_count": 11
        }
      ]
    },
    {
      "cell_type": "code",
      "source": [
        "def create_rows(deal, num):\n",
        "  chunk = ceil(len(deal) / num)\n",
        "  t = [deal[i:i+num] for i in range(0, len(deal), num)]\n",
        "  return t"
      ],
      "metadata": {
        "id": "EN8Z7OjwSt0B"
      },
      "execution_count": null,
      "outputs": []
    },
    {
      "cell_type": "code",
      "source": [
        "t = create_rows(deal_cards, 8)"
      ],
      "metadata": {
        "id": "gPwNmUI2WpAj"
      },
      "execution_count": null,
      "outputs": []
    },
    {
      "cell_type": "code",
      "source": [
        "t"
      ],
      "metadata": {
        "colab": {
          "base_uri": "https://localhost:8080/"
        },
        "id": "Es1KZQlLXEIj",
        "outputId": "9c41bf6e-902f-4264-e5f9-dd6ba620f25a"
      },
      "execution_count": null,
      "outputs": [
        {
          "output_type": "execute_result",
          "data": {
            "text/plain": [
              "[['6D', 'QS', '7S', 'QH', '2S', 'JC', '7H', '5C'],\n",
              " ['2D', 'JS', '5S', '6S', '4S', 'TH', '5H', '9C'],\n",
              " ['6C', '2H', '8C', '9D', 'JH', '7D', '8D', '4D'],\n",
              " ['3C', 'TS', '9H', 'KD', 'KH', 'AH', 'TD', 'QC'],\n",
              " ['9S', 'AS', '7C', 'AD', 'TC', '3D', '3H', '4H'],\n",
              " ['QD', 'JD', 'KC', '4C', '3S', 'KS', '6H', '8H'],\n",
              " ['5D', '2C', 'AC', '8S']]"
            ]
          },
          "metadata": {},
          "execution_count": 68
        }
      ]
    },
    {
      "cell_type": "code",
      "source": [
        "rows = create_rows(deal_cards, 12)"
      ],
      "metadata": {
        "id": "FnKocFpzcAxS"
      },
      "execution_count": null,
      "outputs": []
    },
    {
      "cell_type": "code",
      "source": [
        "rows"
      ],
      "metadata": {
        "colab": {
          "base_uri": "https://localhost:8080/"
        },
        "id": "K7Fj38SYcJIK",
        "outputId": "d8726ac2-2603-40fc-bac1-4e020b14d32e"
      },
      "execution_count": null,
      "outputs": [
        {
          "output_type": "execute_result",
          "data": {
            "text/plain": [
              "[['6D', 'QS', '7S', 'QH', '2S', 'JC', '7H', '5C', '2D', 'JS', '5S', '6S'],\n",
              " ['4S', 'TH', '5H', '9C', '6C', '2H', '8C', '9D', 'JH', '7D', '8D', '4D'],\n",
              " ['3C', 'TS', '9H', 'KD', 'KH', 'AH', 'TD', 'QC', '9S', 'AS', '7C', 'AD'],\n",
              " ['TC', '3D', '3H', '4H', 'QD', 'JD', 'KC', '4C', '3S', 'KS', '6H', '8H'],\n",
              " ['5D', '2C', 'AC', '8S']]"
            ]
          },
          "metadata": {},
          "execution_count": 113
        }
      ]
    },
    {
      "cell_type": "code",
      "source": [
        "for r in rows:\n",
        "  print(r[0])"
      ],
      "metadata": {
        "colab": {
          "base_uri": "https://localhost:8080/"
        },
        "id": "x5QktLjwcKGz",
        "outputId": "c565b627-3659-4ec7-d77c-67f32894565f"
      },
      "execution_count": null,
      "outputs": [
        {
          "output_type": "stream",
          "name": "stdout",
          "text": [
            "6D\n",
            "4S\n",
            "3C\n",
            "TC\n",
            "5D\n"
          ]
        }
      ]
    },
    {
      "cell_type": "code",
      "source": [
        "t1 = [r[0] for r in rows]"
      ],
      "metadata": {
        "id": "zIFqRsqlcpae"
      },
      "execution_count": null,
      "outputs": []
    },
    {
      "cell_type": "code",
      "source": [
        "t1"
      ],
      "metadata": {
        "colab": {
          "base_uri": "https://localhost:8080/"
        },
        "id": "qy6waPx4dCfZ",
        "outputId": "f4da49b5-9766-4230-82a3-a82960d9e040"
      },
      "execution_count": null,
      "outputs": [
        {
          "output_type": "execute_result",
          "data": {
            "text/plain": [
              "['6D', '4S', '3C', 'TC', '5D']"
            ]
          },
          "metadata": {},
          "execution_count": 117
        }
      ]
    },
    {
      "cell_type": "code",
      "source": [
        "def t1(rows):\n",
        "  indx = 0\n",
        "  tableaus = []\n",
        "  while indx < len(rows):\n",
        "    try:\n",
        "      tb = [r[indx] for r in rows]\n",
        "      tableaus.append(tb)\n",
        "    except:\n",
        "      pass\n",
        "    indx += 1\n",
        "\n",
        "  return tableaus"
      ],
      "metadata": {
        "id": "BG5m2H7-e_4n"
      },
      "execution_count": null,
      "outputs": []
    },
    {
      "cell_type": "code",
      "source": [
        "tableaus = t1(rows)"
      ],
      "metadata": {
        "id": "Sqj5ToBXfrpv"
      },
      "execution_count": null,
      "outputs": []
    },
    {
      "cell_type": "code",
      "source": [
        "tableaus"
      ],
      "metadata": {
        "colab": {
          "base_uri": "https://localhost:8080/"
        },
        "id": "0Da7qLsSfv4d",
        "outputId": "119d7405-c4c9-401c-8b69-b1d8c5532cdb"
      },
      "execution_count": null,
      "outputs": [
        {
          "output_type": "execute_result",
          "data": {
            "text/plain": [
              "[['6D', '4S', '3C', 'TC', '5D'],\n",
              " ['QS', 'TH', 'TS', '3D', '2C'],\n",
              " ['7S', '5H', '9H', '3H', 'AC'],\n",
              " ['QH', '9C', 'KD', '4H', '8S']]"
            ]
          },
          "metadata": {},
          "execution_count": 121
        }
      ]
    },
    {
      "cell_type": "code",
      "source": [
        "tableaus"
      ],
      "metadata": {
        "colab": {
          "base_uri": "https://localhost:8080/"
        },
        "id": "Jrw469Kpt8R4",
        "outputId": "4083161c-81a5-4ece-9bf3-74a6633edd75"
      },
      "execution_count": null,
      "outputs": [
        {
          "output_type": "execute_result",
          "data": {
            "text/plain": [
              "[['6D'], ['TH'], ['9H'], ['4H'], []]"
            ]
          },
          "metadata": {},
          "execution_count": 124
        }
      ]
    },
    {
      "cell_type": "code",
      "source": [],
      "metadata": {
        "id": "s1Txxc3yyQ0z"
      },
      "execution_count": null,
      "outputs": []
    }
  ]
}